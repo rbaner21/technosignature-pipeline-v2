{
  "cells": [
    {
      "cell_type": "code",
      "source": [
        "!rm -rf technosignature-pipeline-v2\n",
        "!git clone https://github.com/rbaner21/technosignature-pipeline-v2.git\n",
        "!pip install -q pandas astropy pyarrow"
      ],
      "metadata": {
        "id": "6BwzfrOZ-NNr",
        "outputId": "1464ccf5-9ef4-446e-dbde-10b15d2b3091",
        "colab": {
          "base_uri": "https://localhost:8080/"
        }
      },
      "id": "6BwzfrOZ-NNr",
      "execution_count": null,
      "outputs": [
        {
          "output_type": "stream",
          "name": "stdout",
          "text": [
            "Cloning into 'technosignature-pipeline-v2'...\n",
            "remote: Enumerating objects: 85, done.\u001b[K\n",
            "remote: Counting objects: 100% (85/85), done.\u001b[K\n",
            "remote: Compressing objects: 100% (80/80), done.\u001b[K\n",
            "remote: Total 85 (delta 29), reused 23 (delta 1), pack-reused 0 (from 0)\u001b[K\n",
            "Receiving objects: 100% (85/85), 31.73 KiB | 1.76 MiB/s, done.\n",
            "Resolving deltas: 100% (29/29), done.\n"
          ]
        }
      ]
    },
    {
      "cell_type": "code",
      "source": [
        "# Cell 2: Load all pipeline inputs (CSV stubs or empty if missing/blank)\n",
        "import os\n",
        "import pandas as pd\n",
        "from pandas.errors import EmptyDataError\n",
        "\n",
        "def safe_csv(path, columns):\n",
        "    \"\"\"\n",
        "    Try to read `path` into a DataFrame.\n",
        "    If the file is missing or empty, return an empty DataFrame with `columns`.\n",
        "    \"\"\"\n",
        "    if not os.path.exists(path):\n",
        "        return pd.DataFrame(columns=columns)\n",
        "    try:\n",
        "        return pd.read_csv(path)\n",
        "    except EmptyDataError:\n",
        "        return pd.DataFrame(columns=columns)\n",
        "\n",
        "# — NEOWISE photometry\n",
        "df_neo = safe_csv(\"inputs/neowise.csv\",\n",
        "                  [\"pl_name\",\"w1_med\",\"w2_med\",\"ir_flag\"])\n",
        "print(f\"✅ NEOWISE photometry: {len(df_neo)} rows\")\n",
        "\n",
        "# — AllWISE photometry\n",
        "df_wise = safe_csv(\"inputs/wise_photometry.csv\",\n",
        "                   [\"pl_name\",\"w1mpro\",\"w2mpro\",\"ir_flag\"])\n",
        "print(f\"✅ AllWISE photometry: {len(df_wise)} rows\")\n",
        "\n",
        "# — Breakthrough Listen hits\n",
        "df_bl = safe_csv(\"inputs/bl_hits_filtered.csv\",\n",
        "                 [\"frequency_mhz\"])\n",
        "print(f\"✅ BL hits filtered: {len(df_bl)} rows\")\n",
        "\n",
        "# — TESS flags\n",
        "df_tess = safe_csv(\"inputs/tess_flags.csv\",\n",
        "                   [\"pl_name\",\"tess_flag\"])\n",
        "print(f\"✅ TESS flags: {len(df_tess)} rows\")\n",
        "\n",
        "# — Gaia RUWE flags\n",
        "df_gaia = safe_csv(\"inputs/gaia_flags.csv\",\n",
        "                   [\"pl_name\",\"gaia_flag\"])\n",
        "print(f\"✅ Gaia flags: {len(df_gaia)} rows\")\n",
        "\n",
        "# — Spectral spike flags\n",
        "df_spec = safe_csv(\"inputs/spec_flags.csv\",\n",
        "                   [\"file\",\"spec_flag\",\"spike_count\"])\n",
        "print(f\"✅ Spectral flags: {len(df_spec)} rows\")\n"
      ],
      "metadata": {
        "id": "0AtRsRq9Q2AI"
      },
      "id": "0AtRsRq9Q2AI",
      "execution_count": null,
      "outputs": []
    },
    {
      "cell_type": "code",
      "source": [
        "# Cell 3: Harmonize RA/Dec → ICRS and merge into NEOWISE photometry\n",
        "import pandas as pd\n",
        "from astropy.coordinates import SkyCoord\n",
        "import astropy.units as u\n",
        "\n",
        "# 1) Load master planet list with RA/Dec\n",
        "df_pl = pd.read_csv(\"inputs/confirmed_planets.csv\")\n",
        "\n",
        "# 2) Compute ICRS coordinates\n",
        "coords = SkyCoord(df_pl[\"ra\"] * u.deg, df_pl[\"dec\"] * u.deg, frame=\"icrs\")\n",
        "df_pl[\"ra_icrs\"]  = coords.ra.deg\n",
        "df_pl[\"dec_icrs\"] = coords.dec.deg\n",
        "print(f\"✅ Computed ICRS coords for {len(df_pl)} planets\")\n",
        "\n",
        "# 3) Load the NEOWISE table you produced in Notebook 1\n",
        "df_neo = pd.read_csv(\"inputs/neowise.csv\")\n",
        "\n",
        "# 4) Merge in the new ICRS columns by pl_name\n",
        "df_neo = df_neo.merge(\n",
        "    df_pl[[\"pl_name\", \"ra_icrs\", \"dec_icrs\"]],\n",
        "    on=\"pl_name\",\n",
        "    how=\"left\"\n",
        ")\n",
        "\n",
        "# 5) Save out a version you can use downstream\n",
        "df_neo.to_csv(\"inputs/neowise_icrs.csv\", index=False)\n",
        "print(f\"✅ NEOWISE table now has ICRS coords: {len(df_neo)} rows\")\n"
      ],
      "metadata": {
        "id": "943_2Y3oQ4Ky"
      },
      "id": "943_2Y3oQ4Ky",
      "execution_count": null,
      "outputs": []
    },
    {
      "cell_type": "code",
      "source": [
        "# Cell 4: Cross-match Gaia flags vs NEOWISE ICRS within 1\"\n",
        "import pandas as pd\n",
        "from astropy.coordinates import SkyCoord, match_coordinates_sky\n",
        "import astropy.units as u\n",
        "\n",
        "# Load ICRS‐annotated NEOWISE and raw Gaia‐flag table\n",
        "nw = pd.read_csv(\"inputs/neowise_icrs.csv\")\n",
        "gaia = pd.read_csv(\"inputs/gaia_flags.csv\")  # has pl_name, gaia_flag\n",
        "\n",
        "# Build SkyCoord objects\n",
        "coords_nw  = SkyCoord(nw[\"ra_icrs\"]*u.deg, nw[\"dec_icrs\"]*u.deg)\n",
        "coords_pl  = SkyCoord(df_pl[\"ra_icrs\"]*u.deg, df_pl[\"dec_icrs\"]*u.deg)\n",
        "\n",
        "# Match each planet to itself (mask out any giant failures)\n",
        "idx, d2d, _ = match_coordinates_sky(coords_nw, coords_pl)\n",
        "mask = d2d < 1*u.arcsec\n",
        "\n",
        "# Attach gaia_flag to NEOWISE table\n",
        "nw[\"gaia_flag\"] = False\n",
        "for i, keep in enumerate(mask):\n",
        "    if keep:\n",
        "        # find matching pl_name index\n",
        "        name = df_pl.iloc[idx[i]][\"pl_name\"]\n",
        "        nw.at[i, \"gaia_flag\"] = bool(\n",
        "            gaia.loc[gaia[\"pl_name\"]==name, \"gaia_flag\"].any()\n",
        "        )\n",
        "\n",
        "# Save a combined table for downstream\n",
        "nw.to_csv(\"inputs/neowise_merged.csv\", index=False)\n",
        "print(f\"✅ Cross‑matched {mask.sum()} entries within 1\\\"\")\n"
      ],
      "metadata": {
        "id": "BdWmCdYyQ5_D"
      },
      "id": "BdWmCdYyQ5_D",
      "execution_count": null,
      "outputs": []
    }
  ],
  "metadata": {
    "colab": {
      "provenance": [],
      "gpuType": "T4"
    },
    "accelerator": "GPU",
    "language_info": {
      "name": "python"
    },
    "kernelspec": {
      "name": "python3",
      "display_name": "Python 3"
    }
  },
  "nbformat": 4,
  "nbformat_minor": 5
}