{
  "cells": [
    {
      "cell_type": "code",
      "source": [
        "!rm -rf technosignature-pipeline-v2\n",
        "!git clone https://github.com/rbaner21/technosignature-pipeline-v2.git\n",
        "!pip install -q pandas astropy pyarrow"
      ],
      "metadata": {
        "id": "6BwzfrOZ-NNr",
        "outputId": "1464ccf5-9ef4-446e-dbde-10b15d2b3091",
        "colab": {
          "base_uri": "https://localhost:8080/"
        }
      },
      "id": "6BwzfrOZ-NNr",
      "execution_count": null,
      "outputs": [
        {
          "output_type": "stream",
          "name": "stdout",
          "text": [
            "Cloning into 'technosignature-pipeline-v2'...\n",
            "remote: Enumerating objects: 85, done.\u001b[K\n",
            "remote: Counting objects: 100% (85/85), done.\u001b[K\n",
            "remote: Compressing objects: 100% (80/80), done.\u001b[K\n",
            "remote: Total 85 (delta 29), reused 23 (delta 1), pack-reused 0 (from 0)\u001b[K\n",
            "Receiving objects: 100% (85/85), 31.73 KiB | 1.76 MiB/s, done.\n",
            "Resolving deltas: 100% (29/29), done.\n"
          ]
        }
      ]
    },
    {
      "cell_type": "code",
      "source": [
        "# Cell 2: Load all pipeline inputs (CSV stubs or empty if missing/blank)\n",
        "import os\n",
        "import pandas as pd\n",
        "from pandas.errors import EmptyDataError\n",
        "\n",
        "def safe_csv(path, columns):\n",
        "    \"\"\"\n",
        "    Try to read `path` into a DataFrame.\n",
        "    If the file is missing or empty, return an empty DataFrame with `columns`.\n",
        "    \"\"\"\n",
        "    if not os.path.exists(path):\n",
        "        return pd.DataFrame(columns=columns)\n",
        "    try:\n",
        "        return pd.read_csv(path)\n",
        "    except EmptyDataError:\n",
        "        return pd.DataFrame(columns=columns)\n",
        "\n",
        "# — NEOWISE photometry\n",
        "df_neo = safe_csv(\"inputs/neowise.csv\",\n",
        "                  [\"pl_name\",\"w1_med\",\"w2_med\",\"ir_flag\"])\n",
        "print(f\"✅ NEOWISE photometry: {len(df_neo)} rows\")\n",
        "\n",
        "# — AllWISE photometry\n",
        "df_wise = safe_csv(\"inputs/wise_photometry.csv\",\n",
        "                   [\"pl_name\",\"w1mpro\",\"w2mpro\",\"ir_flag\"])\n",
        "print(f\"✅ AllWISE photometry: {len(df_wise)} rows\")\n",
        "\n",
        "# — Breakthrough Listen hits\n",
        "df_bl = safe_csv(\"inputs/bl_hits_filtered.csv\",\n",
        "                 [\"frequency_mhz\"])\n",
        "print(f\"✅ BL hits filtered: {len(df_bl)} rows\")\n",
        "\n",
        "# — TESS flags\n",
        "df_tess = safe_csv(\"inputs/tess_flags.csv\",\n",
        "                   [\"pl_name\",\"tess_flag\"])\n",
        "print(f\"✅ TESS flags: {len(df_tess)} rows\")\n",
        "\n",
        "# — Gaia RUWE flags\n",
        "df_gaia = safe_csv(\"inputs/gaia_flags.csv\",\n",
        "                   [\"pl_name\",\"gaia_flag\"])\n",
        "print(f\"✅ Gaia flags: {len(df_gaia)} rows\")\n",
        "\n",
        "# — Spectral spike flags\n",
        "df_spec = safe_csv(\"inputs/spec_flags.csv\",\n",
        "                   [\"file\",\"spec_flag\",\"spike_count\"])\n",
        "print(f\"✅ Spectral flags: {len(df_spec)} rows\")\n"
      ],
      "metadata": {
        "id": "0AtRsRq9Q2AI"
      },
      "id": "0AtRsRq9Q2AI",
      "execution_count": null,
      "outputs": []
    },
    {
      "cell_type": "code",
      "source": [
        "from astropy.coordinates import SkyCoord\n",
        "import astropy.units as u\n",
        "\n",
        "coords = SkyCoord(df_neo[\"ra\"]*u.deg, df_neo[\"dec\"]*u.deg, frame=\"icrs\")\n",
        "df_neo[\"ra_icrs\"], df_neo[\"dec_icrs\"] = coords.ra.deg, coords.dec.deg\n",
        "df_neo.to_parquet(\"inputs/neowise_filtered_icrs.parquet\", index=False)\n",
        "print(\"✅ NEOWISE coords harmonized\")\n"
      ],
      "metadata": {
        "id": "943_2Y3oQ4Ky"
      },
      "id": "943_2Y3oQ4Ky",
      "execution_count": null,
      "outputs": []
    },
    {
      "cell_type": "code",
      "source": [
        "# We already have:\n",
        "# inputs/neowise_filtered_icrs.parquet\n",
        "# inputs/bl_filtered.csv\n",
        "# inputs/tess_flags.csv\n",
        "# inputs/gaia_flags.csv\n",
        "# inputs/spec_flags.csv\n",
        "# inputs/confirmed_planets.csv\n",
        "print(\"✅ Preprocessing complete—flags ready for feature engineering\")\n"
      ],
      "metadata": {
        "id": "BdWmCdYyQ5_D"
      },
      "id": "BdWmCdYyQ5_D",
      "execution_count": null,
      "outputs": []
    }
  ],
  "metadata": {
    "colab": {
      "provenance": [],
      "gpuType": "T4"
    },
    "accelerator": "GPU",
    "language_info": {
      "name": "python"
    },
    "kernelspec": {
      "name": "python3",
      "display_name": "Python 3"
    }
  },
  "nbformat": 4,
  "nbformat_minor": 5
}