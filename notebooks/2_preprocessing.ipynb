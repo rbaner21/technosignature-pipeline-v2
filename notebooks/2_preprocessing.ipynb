{
  "cells": [
    {
      "cell_type": "code",
      "source": [
        "!rm -rf technosignature-pipeline-v2\n",
        "!git clone https://github.com/rbaner21/technosignature-pipeline-v2.git\n",
        "!pip install -q pandas astropy pyarrow"
      ],
      "metadata": {
        "id": "6BwzfrOZ-NNr",
        "outputId": "1464ccf5-9ef4-446e-dbde-10b15d2b3091",
        "colab": {
          "base_uri": "https://localhost:8080/"
        }
      },
      "id": "6BwzfrOZ-NNr",
      "execution_count": 2,
      "outputs": [
        {
          "output_type": "stream",
          "name": "stdout",
          "text": [
            "Cloning into 'technosignature-pipeline-v2'...\n",
            "remote: Enumerating objects: 85, done.\u001b[K\n",
            "remote: Counting objects: 100% (85/85), done.\u001b[K\n",
            "remote: Compressing objects: 100% (80/80), done.\u001b[K\n",
            "remote: Total 85 (delta 29), reused 23 (delta 1), pack-reused 0 (from 0)\u001b[K\n",
            "Receiving objects: 100% (85/85), 31.73 KiB | 1.76 MiB/s, done.\n",
            "Resolving deltas: 100% (29/29), done.\n"
          ]
        }
      ]
    },
    {
      "cell_type": "code",
      "source": [
        "import pandas as pd\n",
        "\n",
        "df_neo  = pd.read_parquet(\"inputs/neowise_filtered.parquet\")\n",
        "df_bl   = pd.read_csv(\"inputs/bl_filtered.csv\")\n",
        "df_tess = pd.read_csv(\"inputs/tess_flags.csv\")\n",
        "df_gaia = pd.read_csv(\"inputs/gaia_flags.csv\")\n",
        "df_spec = pd.read_csv(\"inputs/spec_flags.csv\")\n",
        "df_pl   = pd.read_csv(\"inputs/confirmed_planets.csv\")\n",
        "\n",
        "print(\"Loaded:\")\n",
        "print(f\" • NEOWISE flags: {len(df_neo)} rows\")\n",
        "print(f\" • BL flags:     {len(df_bl)} rows\")\n",
        "print(f\" • TESS flags:   {len(df_tess)} rows\")\n",
        "print(f\" • Gaia flags:   {len(df_gaia)} rows\")\n",
        "print(f\" • Spec flags:   {len(df_spec)} files\")\n",
        "print(f\" • Planets:      {len(df_pl)} entries\")\n"
      ],
      "metadata": {
        "id": "0AtRsRq9Q2AI"
      },
      "id": "0AtRsRq9Q2AI",
      "execution_count": null,
      "outputs": []
    },
    {
      "cell_type": "code",
      "source": [
        "from astropy.coordinates import SkyCoord\n",
        "import astropy.units as u\n",
        "\n",
        "coords = SkyCoord(df_neo[\"ra\"]*u.deg, df_neo[\"dec\"]*u.deg, frame=\"icrs\")\n",
        "df_neo[\"ra_icrs\"], df_neo[\"dec_icrs\"] = coords.ra.deg, coords.dec.deg\n",
        "df_neo.to_parquet(\"inputs/neowise_filtered_icrs.parquet\", index=False)\n",
        "print(\"✅ NEOWISE coords harmonized\")\n"
      ],
      "metadata": {
        "id": "943_2Y3oQ4Ky"
      },
      "id": "943_2Y3oQ4Ky",
      "execution_count": null,
      "outputs": []
    },
    {
      "cell_type": "code",
      "source": [
        "# We already have:\n",
        "# inputs/neowise_filtered_icrs.parquet\n",
        "# inputs/bl_filtered.csv\n",
        "# inputs/tess_flags.csv\n",
        "# inputs/gaia_flags.csv\n",
        "# inputs/spec_flags.csv\n",
        "# inputs/confirmed_planets.csv\n",
        "print(\"✅ Preprocessing complete—flags ready for feature engineering\")\n"
      ],
      "metadata": {
        "id": "BdWmCdYyQ5_D"
      },
      "id": "BdWmCdYyQ5_D",
      "execution_count": null,
      "outputs": []
    }
  ],
  "metadata": {
    "colab": {
      "provenance": [],
      "gpuType": "T4"
    },
    "accelerator": "GPU",
    "language_info": {
      "name": "python"
    },
    "kernelspec": {
      "name": "python3",
      "display_name": "Python 3"
    }
  },
  "nbformat": 4,
  "nbformat_minor": 5
}