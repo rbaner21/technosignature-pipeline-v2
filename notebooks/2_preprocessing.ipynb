{
  "cells": [
    {
      "cell_type": "code",
      "source": [
        "!rm -rf technosignature-pipeline-v2\n",
        "!git clone https://github.com/rbaner21/technosignature-pipeline-v2.git\n",
        "!pip install -q pandas astropy pyarrow"
      ],
      "metadata": {
        "id": "6BwzfrOZ-NNr",
        "outputId": "1464ccf5-9ef4-446e-dbde-10b15d2b3091",
        "colab": {
          "base_uri": "https://localhost:8080/"
        }
      },
      "id": "6BwzfrOZ-NNr",
      "execution_count": null,
      "outputs": [
        {
          "output_type": "stream",
          "name": "stdout",
          "text": [
            "Cloning into 'technosignature-pipeline-v2'...\n",
            "remote: Enumerating objects: 85, done.\u001b[K\n",
            "remote: Counting objects: 100% (85/85), done.\u001b[K\n",
            "remote: Compressing objects: 100% (80/80), done.\u001b[K\n",
            "remote: Total 85 (delta 29), reused 23 (delta 1), pack-reused 0 (from 0)\u001b[K\n",
            "Receiving objects: 100% (85/85), 31.73 KiB | 1.76 MiB/s, done.\n",
            "Resolving deltas: 100% (29/29), done.\n"
          ]
        }
      ]
    },
    {
      "cell_type": "code",
      "source": [
        "# Cell 2: Load all pipeline inputs (CSV stubs or empty if missing/blank)\n",
        "import os\n",
        "import pandas as pd\n",
        "from pandas.errors import EmptyDataError\n",
        "\n",
        "def safe_csv(path, columns):\n",
        "    \"\"\"\n",
        "    Try to read `path` into a DataFrame.\n",
        "    If the file is missing or empty, return an empty DataFrame with `columns`.\n",
        "    \"\"\"\n",
        "    if not os.path.exists(path):\n",
        "        return pd.DataFrame(columns=columns)\n",
        "    try:\n",
        "        return pd.read_csv(path)\n",
        "    except EmptyDataError:\n",
        "        return pd.DataFrame(columns=columns)\n",
        "\n",
        "# — NEOWISE photometry\n",
        "df_neo = safe_csv(\"inputs/neowise.csv\",\n",
        "                  [\"pl_name\",\"w1_med\",\"w2_med\",\"ir_flag\"])\n",
        "print(f\"✅ NEOWISE photometry: {len(df_neo)} rows\")\n",
        "\n",
        "# — AllWISE photometry\n",
        "df_wise = safe_csv(\"inputs/wise_photometry.csv\",\n",
        "                   [\"pl_name\",\"w1mpro\",\"w2mpro\",\"ir_flag\"])\n",
        "print(f\"✅ AllWISE photometry: {len(df_wise)} rows\")\n",
        "\n",
        "# — Breakthrough Listen hits\n",
        "df_bl = safe_csv(\"inputs/bl_hits_filtered.csv\",\n",
        "                 [\"frequency_mhz\"])\n",
        "print(f\"✅ BL hits filtered: {len(df_bl)} rows\")\n",
        "\n",
        "# — TESS flags\n",
        "df_tess = safe_csv(\"inputs/tess_flags.csv\",\n",
        "                   [\"pl_name\",\"tess_flag\"])\n",
        "print(f\"✅ TESS flags: {len(df_tess)} rows\")\n",
        "\n",
        "# — Gaia RUWE flags\n",
        "df_gaia = safe_csv(\"inputs/gaia_flags.csv\",\n",
        "                   [\"pl_name\",\"gaia_flag\"])\n",
        "print(f\"✅ Gaia flags: {len(df_gaia)} rows\")\n",
        "\n",
        "# — Spectral spike flags\n",
        "df_spec = safe_csv(\"inputs/spec_flags.csv\",\n",
        "                   [\"file\",\"spec_flag\",\"spike_count\"])\n",
        "print(f\"✅ Spectral flags: {len(df_spec)} rows\")\n"
      ],
      "metadata": {
        "id": "0AtRsRq9Q2AI"
      },
      "id": "0AtRsRq9Q2AI",
      "execution_count": null,
      "outputs": []
    },
    {
      "cell_type": "code",
      "source": [
        "# Cell 3: Harmonize RA/Dec → ICRS coords (with numeric coercion)\n",
        "import pandas as pd\n",
        "from astropy.coordinates import SkyCoord\n",
        "import astropy.units as u\n",
        "\n",
        "# 1) Load the master planet table\n",
        "df_pl = pd.read_csv(\"inputs/confirmed_planets.csv\")\n",
        "\n",
        "# 2) Force ra/dec to floats (any non‑numeric becomes NaN) and drop bad rows\n",
        "df_pl[\"ra\"]  = pd.to_numeric(df_pl[\"ra\"],  errors=\"coerce\")\n",
        "df_pl[\"dec\"] = pd.to_numeric(df_pl[\"dec\"], errors=\"coerce\")\n",
        "df_pl = df_pl.dropna(subset=[\"ra\",\"dec\"]).reset_index(drop=True)\n",
        "\n",
        "# 3) Build SkyCoord in ICRS\n",
        "coords = SkyCoord(\n",
        "    df_pl[\"ra\"].values  * u.deg,\n",
        "    df_pl[\"dec\"].values * u.deg,\n",
        "    frame=\"icrs\"\n",
        ")\n",
        "df_pl[\"ra_icrs\"]  = coords.ra.deg\n",
        "df_pl[\"dec_icrs\"] = coords.dec.deg\n",
        "\n",
        "# 4) Save an ICRS‑annotated planet table for downstream use\n",
        "df_pl.to_csv(\"inputs/confirmed_planets_icrs.csv\", index=False)\n",
        "print(f\"✅ ICRS coords computed for {len(df_pl)} planets → inputs/confirmed_planets_icrs.csv\")\n"
      ],
      "metadata": {
        "id": "943_2Y3oQ4Ky"
      },
      "id": "943_2Y3oQ4Ky",
      "execution_count": null,
      "outputs": []
    },
    {
      "cell_type": "code",
      "source": [
        "# Cell 4: Merge NEOWISE IR flags with Gaia RUWE flags by planet name\n",
        "import pandas as pd\n",
        "\n",
        "# Load the two flag tables\n",
        "df_neo  = pd.read_csv(\"inputs/neowise.csv\")        # IR flags\n",
        "df_gaia = pd.read_csv(\"inputs/gaia_flags.csv\")     # Gaia RUWE flags\n",
        "\n",
        "# Merge them into a single DataFrame (left join keeps all IR entries)\n",
        "df_merge = df_neo.merge(\n",
        "    df_gaia,\n",
        "    on=\"pl_name\",\n",
        "    how=\"left\"\n",
        ")\n",
        "\n",
        "# Wherever gaia_flag is NaN (no match), assume False\n",
        "df_merge[\"gaia_flag\"] = df_merge[\"gaia_flag\"].fillna(False)\n",
        "\n",
        "# Write out for downstream feature engineering\n",
        "os.makedirs(\"inputs\", exist_ok=True)\n",
        "df_merge.to_csv(\"inputs/ir_gaia_flags.csv\", index=False)\n",
        "\n",
        "print(f\"✅ Merged IR+Gaia flags: {len(df_merge)} rows\")\n"
      ],
      "metadata": {
        "id": "BdWmCdYyQ5_D"
      },
      "id": "BdWmCdYyQ5_D",
      "execution_count": null,
      "outputs": []
    },
    {
      "cell_type": "code",
      "source": [
        "# Cell 5: Detrend & normalize light curves (and join in IR+Gaia flags)\n",
        "import lightkurve as lk\n",
        "import pandas as pd\n",
        "\n",
        "# Load your merged flag table\n",
        "flags = pd.read_csv(\"inputs/ir_gaia_flags.csv\")\n",
        "\n",
        "# Example: for each planet, download and flatten its TESS LC\n",
        "lc_flat_list = []\n",
        "for tic in flags[\"tic_id\"].dropna().unique():\n",
        "    lc = lk.search_lightcurve(f\"TIC {int(tic)}\", mission=\"TESS\").download()\n",
        "    lc_flat = lc.flatten(window_length=401)\n",
        "    lc_flat[\"tic_id\"] = tic\n",
        "    lc_flat_list.append(lc_flat)\n",
        "\n",
        "# Concatenate and save\n",
        "all_flat = lk.LightCurveCollection(lc_flat_list)\n",
        "all_flat.to_fits(\"inputs/tess/lc_flat_collection.fits\", overwrite=True)\n",
        "print(f\"✅ Flattened {len(lc_flat_list)} TESS light curves\")\n"
      ],
      "metadata": {
        "id": "x8EYWydMezfZ"
      },
      "id": "x8EYWydMezfZ",
      "execution_count": null,
      "outputs": []
    }
  ],
  "metadata": {
    "colab": {
      "provenance": [],
      "gpuType": "T4"
    },
    "accelerator": "GPU",
    "language_info": {
      "name": "python"
    },
    "kernelspec": {
      "name": "python3",
      "display_name": "Python 3"
    }
  },
  "nbformat": 4,
  "nbformat_minor": 5
}