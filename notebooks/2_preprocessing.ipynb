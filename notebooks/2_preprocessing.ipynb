{
  "cells": [
    {
      "cell_type": "code",
      "source": [
        "!rm -rf technosignature-pipeline-v2\n",
        "!git clone https://github.com/rbaner21/technosignature-pipeline-v2.git\n",
        "!pip install -q pandas astropy pyarrow"
      ],
      "metadata": {
        "id": "6BwzfrOZ-NNr",
        "outputId": "1464ccf5-9ef4-446e-dbde-10b15d2b3091",
        "colab": {
          "base_uri": "https://localhost:8080/"
        }
      },
      "id": "6BwzfrOZ-NNr",
      "execution_count": null,
      "outputs": [
        {
          "output_type": "stream",
          "name": "stdout",
          "text": [
            "Cloning into 'technosignature-pipeline-v2'...\n",
            "remote: Enumerating objects: 85, done.\u001b[K\n",
            "remote: Counting objects: 100% (85/85), done.\u001b[K\n",
            "remote: Compressing objects: 100% (80/80), done.\u001b[K\n",
            "remote: Total 85 (delta 29), reused 23 (delta 1), pack-reused 0 (from 0)\u001b[K\n",
            "Receiving objects: 100% (85/85), 31.73 KiB | 1.76 MiB/s, done.\n",
            "Resolving deltas: 100% (29/29), done.\n"
          ]
        }
      ]
    },
    {
      "cell_type": "code",
      "source": [
        "# Cell 2: Load all pipeline inputs (CSV stubs if missing)\n",
        "import os\n",
        "import pandas as pd\n",
        "\n",
        "# — NEOWISE photometry\n",
        "nei_path = \"inputs/neowise.csv\"\n",
        "if os.path.exists(nei_path):\n",
        "    df_neo = pd.read_csv(nei_path)\n",
        "else:\n",
        "    df_neo = pd.DataFrame(columns=[\"pl_name\",\"w1_med\",\"w2_med\",\"ir_flag\"])\n",
        "print(f\"✅ NEOWISE photometry: {len(df_neo)} rows\")\n",
        "\n",
        "# — AllWISE photometry (optional)\n",
        "wise_path = \"inputs/wise_photometry.csv\"\n",
        "if os.path.exists(wise_path):\n",
        "    df_wise = pd.read_csv(wise_path)\n",
        "else:\n",
        "    df_wise = pd.DataFrame(columns=[\"pl_name\",\"w1mpro\",\"w2mpro\",\"ir_flag\"])\n",
        "print(f\"✅ AllWISE photometry: {len(df_wise)} rows\")\n",
        "\n",
        "# — Breakthrough Listen hits\n",
        "bl_path = \"inputs/bl_hits_filtered.csv\"\n",
        "if os.path.exists(bl_path):\n",
        "    df_bl = pd.read_csv(bl_path)\n",
        "else:\n",
        "    df_bl = pd.DataFrame(columns=[\"frequency_mhz\"])\n",
        "print(f\"✅ BL hits filtered: {len(df_bl)} rows\")\n",
        "\n",
        "# — TESS flags (if you have them)\n",
        "tess_path = \"inputs/tess_flags.csv\"\n",
        "if os.path.exists(tess_path):\n",
        "    df_tess = pd.read_csv(tess_path)\n",
        "    print(f\"✅ TESS flags: {len(df_tess)} rows\")\n",
        "else:\n",
        "    df_tess = pd.DataFrame(columns=[\"pl_name\",\"tess_flag\"])\n",
        "    print(\"ℹ️  No TESS flags found, using empty table\")\n",
        "\n",
        "# — Gaia RUWE flags\n",
        "gaia_path = \"inputs/gaia_flags.csv\"\n",
        "if os.path.exists(gaia_path):\n",
        "    df_gaia = pd.read_csv(gaia_path)\n",
        "else:\n",
        "    df_gaia = pd.DataFrame(columns=[\"pl_name\",\"gaia_flag\"])\n",
        "print(f\"✅ Gaia flags: {len(df_gaia)} rows\")\n",
        "\n",
        "# — Spectral spike flags\n",
        "spec_path = \"inputs/spec_flags.csv\"\n",
        "if os.path.exists(spec_path):\n",
        "    df_spec = pd.read_csv(spec_path)\n",
        "else:\n",
        "    df_spec = pd.DataFrame(columns=[\"file\",\"spec_flag\",\"spike_count\"])\n",
        "print(f\"✅ Spectral flags: {len(df_spec)} rows\")\n"
      ],
      "metadata": {
        "id": "0AtRsRq9Q2AI"
      },
      "id": "0AtRsRq9Q2AI",
      "execution_count": null,
      "outputs": []
    },
    {
      "cell_type": "code",
      "source": [
        "from astropy.coordinates import SkyCoord\n",
        "import astropy.units as u\n",
        "\n",
        "coords = SkyCoord(df_neo[\"ra\"]*u.deg, df_neo[\"dec\"]*u.deg, frame=\"icrs\")\n",
        "df_neo[\"ra_icrs\"], df_neo[\"dec_icrs\"] = coords.ra.deg, coords.dec.deg\n",
        "df_neo.to_parquet(\"inputs/neowise_filtered_icrs.parquet\", index=False)\n",
        "print(\"✅ NEOWISE coords harmonized\")\n"
      ],
      "metadata": {
        "id": "943_2Y3oQ4Ky"
      },
      "id": "943_2Y3oQ4Ky",
      "execution_count": null,
      "outputs": []
    },
    {
      "cell_type": "code",
      "source": [
        "# We already have:\n",
        "# inputs/neowise_filtered_icrs.parquet\n",
        "# inputs/bl_filtered.csv\n",
        "# inputs/tess_flags.csv\n",
        "# inputs/gaia_flags.csv\n",
        "# inputs/spec_flags.csv\n",
        "# inputs/confirmed_planets.csv\n",
        "print(\"✅ Preprocessing complete—flags ready for feature engineering\")\n"
      ],
      "metadata": {
        "id": "BdWmCdYyQ5_D"
      },
      "id": "BdWmCdYyQ5_D",
      "execution_count": null,
      "outputs": []
    }
  ],
  "metadata": {
    "colab": {
      "provenance": [],
      "gpuType": "T4"
    },
    "accelerator": "GPU",
    "language_info": {
      "name": "python"
    },
    "kernelspec": {
      "name": "python3",
      "display_name": "Python 3"
    }
  },
  "nbformat": 4,
  "nbformat_minor": 5
}