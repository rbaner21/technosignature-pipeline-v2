{
  "nbformat": 4,
  "nbformat_minor": 0,
  "metadata": {
    "colab": {
      "provenance": [],
      "gpuType": "T4",
      "authorship_tag": "ABX9TyN8bEX0gdm+eanvZVFx2rh8",
      "include_colab_link": true
    },
    "kernelspec": {
      "name": "python3",
      "display_name": "Python 3"
    },
    "language_info": {
      "name": "python"
    },
    "accelerator": "GPU"
  },
  "cells": [
    {
      "cell_type": "markdown",
      "metadata": {
        "id": "view-in-github",
        "colab_type": "text"
      },
      "source": [
        "<a href=\"https://colab.research.google.com/github/rbaner21/technosignature-pipeline-v2/blob/main/notebooks/run_all.ipynb\" target=\"_parent\"><img src=\"https://colab.research.google.com/assets/colab-badge.svg\" alt=\"Open In Colab\"/></a>"
      ]
    },
    {
      "cell_type": "code",
      "execution_count": 1,
      "metadata": {
        "colab": {
          "base_uri": "https://localhost:8080/"
        },
        "id": "in7ESUo2Ufl_",
        "outputId": "7f99238d-21b5-416f-b43d-8973f392fc84"
      },
      "outputs": [
        {
          "output_type": "stream",
          "name": "stdout",
          "text": [
            "Cloning into 'technosignature-pipeline-v2'...\n",
            "remote: Enumerating objects: 53, done.\u001b[K\n",
            "remote: Counting objects: 100% (53/53), done.\u001b[K\n",
            "remote: Compressing objects: 100% (48/48), done.\u001b[K\n",
            "Receiving objects: 100% (53/53), 16.63 KiB | 8.32 MiB/s, done.\n",
            "remote: Total 53 (delta 15), reused 23 (delta 1), pack-reused 0 (from 0)\u001b[K\n",
            "Resolving deltas: 100% (15/15), done.\n",
            "  Preparing metadata (setup.py) ... \u001b[?25l\u001b[?25hdone\n",
            "\u001b[2K     \u001b[90m━━━━━━━━━━━━━━━━━━━━━━━━━━━━━━━━━━━━━━━━\u001b[0m \u001b[32m41.2/41.2 kB\u001b[0m \u001b[31m4.0 MB/s\u001b[0m eta \u001b[36m0:00:00\u001b[0m\n",
            "\u001b[?25h  Preparing metadata (setup.py) ... \u001b[?25l\u001b[?25hdone\n",
            "  Preparing metadata (setup.py) ... \u001b[?25l\u001b[?25hdone\n",
            "\u001b[2K   \u001b[90m━━━━━━━━━━━━━━━━━━━━━━━━━━━━━━━━━━━━━━━━\u001b[0m \u001b[32m11.1/11.1 MB\u001b[0m \u001b[31m25.6 MB/s\u001b[0m eta \u001b[36m0:00:00\u001b[0m\n",
            "\u001b[2K   \u001b[90m━━━━━━━━━━━━━━━━━━━━━━━━━━━━━━━━━━━━━━━━\u001b[0m \u001b[32m270.4/270.4 kB\u001b[0m \u001b[31m25.4 MB/s\u001b[0m eta \u001b[36m0:00:00\u001b[0m\n",
            "\u001b[2K   \u001b[90m━━━━━━━━━━━━━━━━━━━━━━━━━━━━━━━━━━━━━━━━\u001b[0m \u001b[32m78.3/78.3 kB\u001b[0m \u001b[31m8.5 MB/s\u001b[0m eta \u001b[36m0:00:00\u001b[0m\n",
            "\u001b[2K   \u001b[90m━━━━━━━━━━━━━━━━━━━━━━━━━━━━━━━━━━━━━━━━\u001b[0m \u001b[32m999.4/999.4 kB\u001b[0m \u001b[31m66.7 MB/s\u001b[0m eta \u001b[36m0:00:00\u001b[0m\n",
            "\u001b[2K   \u001b[90m━━━━━━━━━━━━━━━━━━━━━━━━━━━━━━━━━━━━━━━━\u001b[0m \u001b[32m58.3/58.3 kB\u001b[0m \u001b[31m6.3 MB/s\u001b[0m eta \u001b[36m0:00:00\u001b[0m\n",
            "\u001b[2K   \u001b[90m━━━━━━━━━━━━━━━━━━━━━━━━━━━━━━━━━━━━━━━━\u001b[0m \u001b[32m13.4/13.4 MB\u001b[0m \u001b[31m126.1 MB/s\u001b[0m eta \u001b[36m0:00:00\u001b[0m\n",
            "\u001b[?25h  Building wheel for fbpca (setup.py) ... \u001b[?25l\u001b[?25hdone\n",
            "  Building wheel for memoization (setup.py) ... \u001b[?25l\u001b[?25hdone\n",
            "  Building wheel for oktopus (setup.py) ... \u001b[?25l\u001b[?25hdone\n"
          ]
        }
      ],
      "source": [
        "# 1) clone or update\n",
        "!git clone https://github.com/rbaner21/technosignature-pipeline-v2.git \\\n",
        "  || (cd technosignature-pipeline-v2 && git pull)\n",
        "\n",
        "# 2) install only what Colab lacks\n",
        "!pip install -q s3fs astroquery lightkurve papermill\n"
      ]
    },
    {
      "cell_type": "code",
      "source": [
        "import papermill as pm\n",
        "\n",
        "NOTEBOOKS = [\n",
        "  \"1_data_access\",\n",
        "  \"2_preprocessing\",\n",
        "  \"3_feature_engineering\",\n",
        "  \"4_modeling\"\n",
        "]\n",
        "\n",
        "for nb in NOTEBOOKS:\n",
        "    input_path  = f\"technosignature-pipeline-v2/notebooks/{nb}.ipynb\"\n",
        "    output_path = f\"technosignature-pipeline-v2/outputs/{nb}_executed.ipynb\"\n",
        "    print(f\"▶ Running {nb} → {output_path}\")\n",
        "    pm.execute_notebook(input_path, output_path)\n",
        "print(\"✅ All pipeline notebooks executed\")\n"
      ],
      "metadata": {
        "id": "asnAXPQkU6B5"
      },
      "execution_count": null,
      "outputs": []
    },
    {
      "cell_type": "code",
      "source": [
        "# from inside Colab we can run your report script\n",
        "!python technosignature-pipeline-v2/src/report.py\n",
        "print(\"✅ Reports generated in outputs/reports/\")\n"
      ],
      "metadata": {
        "id": "NCxZqmgmU7eJ"
      },
      "execution_count": null,
      "outputs": []
    },
    {
      "cell_type": "code",
      "source": [
        "import pandas as pd\n",
        "df = pd.read_csv(\"technosignature-pipeline-v2/outputs/top_candidates.csv\")\n",
        "df.head(10)\n"
      ],
      "metadata": {
        "id": "4sXSXO3aU9Xc"
      },
      "execution_count": null,
      "outputs": []
    }
  ]
}