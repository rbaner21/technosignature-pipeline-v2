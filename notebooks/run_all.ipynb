{
  "nbformat": 4,
  "nbformat_minor": 0,
  "metadata": {
    "colab": {
      "provenance": [],
      "gpuType": "T4",
      "authorship_tag": "ABX9TyNbBvep28AyWt1SzhgjXL45",
      "include_colab_link": true
    },
    "kernelspec": {
      "name": "python3",
      "display_name": "Python 3"
    },
    "language_info": {
      "name": "python"
    },
    "accelerator": "GPU",
    "widgets": {
      "application/vnd.jupyter.widget-state+json": {
        "5119947f84be49feb46bbd80addb6dd5": {
          "model_module": "@jupyter-widgets/controls",
          "model_name": "HBoxModel",
          "model_module_version": "1.5.0",
          "state": {
            "_dom_classes": [],
            "_model_module": "@jupyter-widgets/controls",
            "_model_module_version": "1.5.0",
            "_model_name": "HBoxModel",
            "_view_count": null,
            "_view_module": "@jupyter-widgets/controls",
            "_view_module_version": "1.5.0",
            "_view_name": "HBoxView",
            "box_style": "",
            "children": [
              "IPY_MODEL_63da615dd2a840b7b3838afb4467141a",
              "IPY_MODEL_242747c6c0654cb4a7c03183bb33d682",
              "IPY_MODEL_493bada2bad1472bbeb68d7f88744484"
            ],
            "layout": "IPY_MODEL_26ea9366c6be43a9970474580bbd3f70"
          }
        },
        "63da615dd2a840b7b3838afb4467141a": {
          "model_module": "@jupyter-widgets/controls",
          "model_name": "HTMLModel",
          "model_module_version": "1.5.0",
          "state": {
            "_dom_classes": [],
            "_model_module": "@jupyter-widgets/controls",
            "_model_module_version": "1.5.0",
            "_model_name": "HTMLModel",
            "_view_count": null,
            "_view_module": "@jupyter-widgets/controls",
            "_view_module_version": "1.5.0",
            "_view_name": "HTMLView",
            "description": "",
            "description_tooltip": null,
            "layout": "IPY_MODEL_a03d39ceebdc47969a124f4bbfd2482f",
            "placeholder": "​",
            "style": "IPY_MODEL_51b24729c75b47718d97f9023a973024",
            "value": "Executing:  29%"
          }
        },
        "242747c6c0654cb4a7c03183bb33d682": {
          "model_module": "@jupyter-widgets/controls",
          "model_name": "FloatProgressModel",
          "model_module_version": "1.5.0",
          "state": {
            "_dom_classes": [],
            "_model_module": "@jupyter-widgets/controls",
            "_model_module_version": "1.5.0",
            "_model_name": "FloatProgressModel",
            "_view_count": null,
            "_view_module": "@jupyter-widgets/controls",
            "_view_module_version": "1.5.0",
            "_view_name": "ProgressView",
            "bar_style": "",
            "description": "",
            "description_tooltip": null,
            "layout": "IPY_MODEL_eee32758e86646d2ba4f2a0f432a9fea",
            "max": 7,
            "min": 0,
            "orientation": "horizontal",
            "style": "IPY_MODEL_58f5a7a705424b5da7917ad445756434",
            "value": 2
          }
        },
        "493bada2bad1472bbeb68d7f88744484": {
          "model_module": "@jupyter-widgets/controls",
          "model_name": "HTMLModel",
          "model_module_version": "1.5.0",
          "state": {
            "_dom_classes": [],
            "_model_module": "@jupyter-widgets/controls",
            "_model_module_version": "1.5.0",
            "_model_name": "HTMLModel",
            "_view_count": null,
            "_view_module": "@jupyter-widgets/controls",
            "_view_module_version": "1.5.0",
            "_view_name": "HTMLView",
            "description": "",
            "description_tooltip": null,
            "layout": "IPY_MODEL_4f16180e320848949adb1f2e780e289c",
            "placeholder": "​",
            "style": "IPY_MODEL_a3a7b9e14bfb4a1e8dec7f3516bacb91",
            "value": " 2/7 [00:30&lt;01:24, 16.83s/cell]"
          }
        },
        "26ea9366c6be43a9970474580bbd3f70": {
          "model_module": "@jupyter-widgets/base",
          "model_name": "LayoutModel",
          "model_module_version": "1.2.0",
          "state": {
            "_model_module": "@jupyter-widgets/base",
            "_model_module_version": "1.2.0",
            "_model_name": "LayoutModel",
            "_view_count": null,
            "_view_module": "@jupyter-widgets/base",
            "_view_module_version": "1.2.0",
            "_view_name": "LayoutView",
            "align_content": null,
            "align_items": null,
            "align_self": null,
            "border": null,
            "bottom": null,
            "display": null,
            "flex": null,
            "flex_flow": null,
            "grid_area": null,
            "grid_auto_columns": null,
            "grid_auto_flow": null,
            "grid_auto_rows": null,
            "grid_column": null,
            "grid_gap": null,
            "grid_row": null,
            "grid_template_areas": null,
            "grid_template_columns": null,
            "grid_template_rows": null,
            "height": null,
            "justify_content": null,
            "justify_items": null,
            "left": null,
            "margin": null,
            "max_height": null,
            "max_width": null,
            "min_height": null,
            "min_width": null,
            "object_fit": null,
            "object_position": null,
            "order": null,
            "overflow": null,
            "overflow_x": null,
            "overflow_y": null,
            "padding": null,
            "right": null,
            "top": null,
            "visibility": null,
            "width": null
          }
        },
        "a03d39ceebdc47969a124f4bbfd2482f": {
          "model_module": "@jupyter-widgets/base",
          "model_name": "LayoutModel",
          "model_module_version": "1.2.0",
          "state": {
            "_model_module": "@jupyter-widgets/base",
            "_model_module_version": "1.2.0",
            "_model_name": "LayoutModel",
            "_view_count": null,
            "_view_module": "@jupyter-widgets/base",
            "_view_module_version": "1.2.0",
            "_view_name": "LayoutView",
            "align_content": null,
            "align_items": null,
            "align_self": null,
            "border": null,
            "bottom": null,
            "display": null,
            "flex": null,
            "flex_flow": null,
            "grid_area": null,
            "grid_auto_columns": null,
            "grid_auto_flow": null,
            "grid_auto_rows": null,
            "grid_column": null,
            "grid_gap": null,
            "grid_row": null,
            "grid_template_areas": null,
            "grid_template_columns": null,
            "grid_template_rows": null,
            "height": null,
            "justify_content": null,
            "justify_items": null,
            "left": null,
            "margin": null,
            "max_height": null,
            "max_width": null,
            "min_height": null,
            "min_width": null,
            "object_fit": null,
            "object_position": null,
            "order": null,
            "overflow": null,
            "overflow_x": null,
            "overflow_y": null,
            "padding": null,
            "right": null,
            "top": null,
            "visibility": null,
            "width": null
          }
        },
        "51b24729c75b47718d97f9023a973024": {
          "model_module": "@jupyter-widgets/controls",
          "model_name": "DescriptionStyleModel",
          "model_module_version": "1.5.0",
          "state": {
            "_model_module": "@jupyter-widgets/controls",
            "_model_module_version": "1.5.0",
            "_model_name": "DescriptionStyleModel",
            "_view_count": null,
            "_view_module": "@jupyter-widgets/base",
            "_view_module_version": "1.2.0",
            "_view_name": "StyleView",
            "description_width": ""
          }
        },
        "eee32758e86646d2ba4f2a0f432a9fea": {
          "model_module": "@jupyter-widgets/base",
          "model_name": "LayoutModel",
          "model_module_version": "1.2.0",
          "state": {
            "_model_module": "@jupyter-widgets/base",
            "_model_module_version": "1.2.0",
            "_model_name": "LayoutModel",
            "_view_count": null,
            "_view_module": "@jupyter-widgets/base",
            "_view_module_version": "1.2.0",
            "_view_name": "LayoutView",
            "align_content": null,
            "align_items": null,
            "align_self": null,
            "border": null,
            "bottom": null,
            "display": null,
            "flex": null,
            "flex_flow": null,
            "grid_area": null,
            "grid_auto_columns": null,
            "grid_auto_flow": null,
            "grid_auto_rows": null,
            "grid_column": null,
            "grid_gap": null,
            "grid_row": null,
            "grid_template_areas": null,
            "grid_template_columns": null,
            "grid_template_rows": null,
            "height": null,
            "justify_content": null,
            "justify_items": null,
            "left": null,
            "margin": null,
            "max_height": null,
            "max_width": null,
            "min_height": null,
            "min_width": null,
            "object_fit": null,
            "object_position": null,
            "order": null,
            "overflow": null,
            "overflow_x": null,
            "overflow_y": null,
            "padding": null,
            "right": null,
            "top": null,
            "visibility": null,
            "width": null
          }
        },
        "58f5a7a705424b5da7917ad445756434": {
          "model_module": "@jupyter-widgets/controls",
          "model_name": "ProgressStyleModel",
          "model_module_version": "1.5.0",
          "state": {
            "_model_module": "@jupyter-widgets/controls",
            "_model_module_version": "1.5.0",
            "_model_name": "ProgressStyleModel",
            "_view_count": null,
            "_view_module": "@jupyter-widgets/base",
            "_view_module_version": "1.2.0",
            "_view_name": "StyleView",
            "bar_color": null,
            "description_width": ""
          }
        },
        "4f16180e320848949adb1f2e780e289c": {
          "model_module": "@jupyter-widgets/base",
          "model_name": "LayoutModel",
          "model_module_version": "1.2.0",
          "state": {
            "_model_module": "@jupyter-widgets/base",
            "_model_module_version": "1.2.0",
            "_model_name": "LayoutModel",
            "_view_count": null,
            "_view_module": "@jupyter-widgets/base",
            "_view_module_version": "1.2.0",
            "_view_name": "LayoutView",
            "align_content": null,
            "align_items": null,
            "align_self": null,
            "border": null,
            "bottom": null,
            "display": null,
            "flex": null,
            "flex_flow": null,
            "grid_area": null,
            "grid_auto_columns": null,
            "grid_auto_flow": null,
            "grid_auto_rows": null,
            "grid_column": null,
            "grid_gap": null,
            "grid_row": null,
            "grid_template_areas": null,
            "grid_template_columns": null,
            "grid_template_rows": null,
            "height": null,
            "justify_content": null,
            "justify_items": null,
            "left": null,
            "margin": null,
            "max_height": null,
            "max_width": null,
            "min_height": null,
            "min_width": null,
            "object_fit": null,
            "object_position": null,
            "order": null,
            "overflow": null,
            "overflow_x": null,
            "overflow_y": null,
            "padding": null,
            "right": null,
            "top": null,
            "visibility": null,
            "width": null
          }
        },
        "a3a7b9e14bfb4a1e8dec7f3516bacb91": {
          "model_module": "@jupyter-widgets/controls",
          "model_name": "DescriptionStyleModel",
          "model_module_version": "1.5.0",
          "state": {
            "_model_module": "@jupyter-widgets/controls",
            "_model_module_version": "1.5.0",
            "_model_name": "DescriptionStyleModel",
            "_view_count": null,
            "_view_module": "@jupyter-widgets/base",
            "_view_module_version": "1.2.0",
            "_view_name": "StyleView",
            "description_width": ""
          }
        }
      }
    }
  },
  "cells": [
    {
      "cell_type": "markdown",
      "metadata": {
        "id": "view-in-github",
        "colab_type": "text"
      },
      "source": [
        "<a href=\"https://colab.research.google.com/github/rbaner21/technosignature-pipeline-v2/blob/main/notebooks/run_all.ipynb\" target=\"_parent\"><img src=\"https://colab.research.google.com/assets/colab-badge.svg\" alt=\"Open In Colab\"/></a>"
      ]
    },
    {
      "cell_type": "code",
      "execution_count": 19,
      "metadata": {
        "colab": {
          "base_uri": "https://localhost:8080/"
        },
        "id": "in7ESUo2Ufl_",
        "outputId": "dee4653d-f0f5-4fcb-e38b-26399ace74d7"
      },
      "outputs": [
        {
          "output_type": "stream",
          "name": "stdout",
          "text": [
            "Cloning into 'technosignature-pipeline-v2'...\n",
            "remote: Enumerating objects: 165, done.\u001b[K\n",
            "remote: Counting objects: 100% (165/165), done.\u001b[K\n",
            "remote: Compressing objects: 100% (160/160), done.\u001b[K\n",
            "remote: Total 165 (delta 66), reused 23 (delta 1), pack-reused 0 (from 0)\u001b[K\n",
            "Receiving objects: 100% (165/165), 60.79 KiB | 6.75 MiB/s, done.\n",
            "Resolving deltas: 100% (66/66), done.\n",
            "✅ Prepared repo clone, installed deps, and created inputs/ & outputs/ folders\n"
          ]
        }
      ],
      "source": [
        "# 1) Clone repo fresh\n",
        "!rm -rf technosignature-pipeline-v2\n",
        "!git clone https://github.com/rbaner21/technosignature-pipeline-v2.git\n",
        "\n",
        "# 2) Install papermill + all libs\n",
        "!pip install -q papermill s3fs astroquery lightkurve pyarrow pandas astropy\n",
        "\n",
        "# 3) Create expected folders\n",
        "!mkdir -p technosignature-pipeline-v2/inputs/tess\n",
        "!mkdir -p technosignature-pipeline-v2/inputs/harps\n",
        "!mkdir -p technosignature-pipeline-v2/outputs/reports\n",
        "\n",
        "print(\"✅ Repo cloned, deps installed, folders created\")\n"
      ]
    },
    {
      "cell_type": "code",
      "source": [
        "import os, papermill as pm\n",
        "\n",
        "repo   = os.path.join(os.getcwd(), \"technosignature-pipeline-v2\")\n",
        "outdir = os.path.join(repo, \"outputs\")\n",
        "os.makedirs(outdir, exist_ok=True)\n",
        "\n",
        "for nb in [\"1_data_access\",\"2_preprocessing\",\"3_feature_engineering\",\"4_modeling\"]:\n",
        "    inp  = os.path.join(repo, \"notebooks\", f\"{nb}.ipynb\")\n",
        "    outp = os.path.join(outdir,      f\"{nb}_executed.ipynb\")\n",
        "    print(f\"▶ Running {nb} ▶\")\n",
        "    pm.execute_notebook(inp, outp, cwd=repo)\n",
        "\n",
        "print(\"✅ All pipeline notebooks executed\")\n"
      ],
      "metadata": {
        "id": "asnAXPQkU6B5",
        "outputId": "7703c305-b17c-4ffe-b392-f7607f378ece",
        "colab": {
          "base_uri": "https://localhost:8080/",
          "height": 223,
          "referenced_widgets": [
            "5119947f84be49feb46bbd80addb6dd5",
            "63da615dd2a840b7b3838afb4467141a",
            "242747c6c0654cb4a7c03183bb33d682",
            "493bada2bad1472bbeb68d7f88744484",
            "26ea9366c6be43a9970474580bbd3f70",
            "a03d39ceebdc47969a124f4bbfd2482f",
            "51b24729c75b47718d97f9023a973024",
            "eee32758e86646d2ba4f2a0f432a9fea",
            "58f5a7a705424b5da7917ad445756434",
            "4f16180e320848949adb1f2e780e289c",
            "a3a7b9e14bfb4a1e8dec7f3516bacb91"
          ]
        }
      },
      "execution_count": null,
      "outputs": [
        {
          "output_type": "stream",
          "name": "stdout",
          "text": [
            "▶ Running 1_data_access.ipynb → /content/technosignature-pipeline-v2/outputs/1_data_access_executed.ipynb\n"
          ]
        },
        {
          "output_type": "display_data",
          "data": {
            "text/plain": [
              "Executing:   0%|          | 0/7 [00:00<?, ?cell/s]"
            ],
            "application/vnd.jupyter.widget-view+json": {
              "version_major": 2,
              "version_minor": 0,
              "model_id": "5119947f84be49feb46bbd80addb6dd5"
            }
          },
          "metadata": {}
        },
        {
          "output_type": "stream",
          "name": "stderr",
          "text": [
            "ERROR:papermill:unhandled iopub msg: colab_request\n",
            "ERROR:papermill:unhandled iopub msg: colab_request\n",
            "ERROR:papermill:unhandled iopub msg: colab_request\n",
            "ERROR:papermill:unhandled iopub msg: colab_request\n",
            "ERROR:papermill:unhandled iopub msg: colab_request\n",
            "ERROR:papermill:unhandled iopub msg: colab_request\n",
            "ERROR:papermill:unhandled iopub msg: colab_request\n",
            "ERROR:papermill:unhandled iopub msg: colab_request\n",
            "ERROR:papermill:unhandled iopub msg: colab_request\n"
          ]
        }
      ]
    },
    {
      "cell_type": "code",
      "source": [
        "# Produce per‑candidate HTML reports\n",
        "!python technosignature-pipeline-v2/src/report.py\n",
        "echo \"✅ Reports in outputs/reports/\"\n"
      ],
      "metadata": {
        "id": "NCxZqmgmU7eJ"
      },
      "execution_count": null,
      "outputs": []
    }
  ]
}