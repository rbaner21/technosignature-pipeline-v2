{
  "nbformat": 4,
  "nbformat_minor": 0,
  "metadata": {
    "colab": {
      "provenance": [],
      "gpuType": "T4",
      "authorship_tag": "ABX9TyPy08dzU+a5hn8zeCYfzTIF",
      "include_colab_link": true
    },
    "kernelspec": {
      "name": "python3",
      "display_name": "Python 3"
    },
    "language_info": {
      "name": "python"
    },
    "accelerator": "GPU",
    "widgets": {
      "application/vnd.jupyter.widget-state+json": {
        "c9c3bb3431f14c608591167361176c40": {
          "model_module": "@jupyter-widgets/controls",
          "model_name": "HBoxModel",
          "model_module_version": "1.5.0",
          "state": {
            "_dom_classes": [],
            "_model_module": "@jupyter-widgets/controls",
            "_model_module_version": "1.5.0",
            "_model_name": "HBoxModel",
            "_view_count": null,
            "_view_module": "@jupyter-widgets/controls",
            "_view_module_version": "1.5.0",
            "_view_name": "HBoxView",
            "box_style": "",
            "children": [
              "IPY_MODEL_cd85651b6a9c40a3a2761c7050d767ce",
              "IPY_MODEL_a01f1fe35a7948819fc794fd89becebb",
              "IPY_MODEL_762c34375fa54426a88194933bfb2241"
            ],
            "layout": "IPY_MODEL_4487e103ff5c4a69b0a63ed3d95bb07b"
          }
        },
        "cd85651b6a9c40a3a2761c7050d767ce": {
          "model_module": "@jupyter-widgets/controls",
          "model_name": "HTMLModel",
          "model_module_version": "1.5.0",
          "state": {
            "_dom_classes": [],
            "_model_module": "@jupyter-widgets/controls",
            "_model_module_version": "1.5.0",
            "_model_name": "HTMLModel",
            "_view_count": null,
            "_view_module": "@jupyter-widgets/controls",
            "_view_module_version": "1.5.0",
            "_view_name": "HTMLView",
            "description": "",
            "description_tooltip": null,
            "layout": "IPY_MODEL_e778cd0a5e0041f4a0fb4e97d34af1cd",
            "placeholder": "​",
            "style": "IPY_MODEL_0adb83a94c3f40fbae2a592af807098b",
            "value": "Executing:  29%"
          }
        },
        "a01f1fe35a7948819fc794fd89becebb": {
          "model_module": "@jupyter-widgets/controls",
          "model_name": "FloatProgressModel",
          "model_module_version": "1.5.0",
          "state": {
            "_dom_classes": [],
            "_model_module": "@jupyter-widgets/controls",
            "_model_module_version": "1.5.0",
            "_model_name": "FloatProgressModel",
            "_view_count": null,
            "_view_module": "@jupyter-widgets/controls",
            "_view_module_version": "1.5.0",
            "_view_name": "ProgressView",
            "bar_style": "danger",
            "description": "",
            "description_tooltip": null,
            "layout": "IPY_MODEL_fa2993806ae64c3f8ce7b92a986d54d2",
            "max": 7,
            "min": 0,
            "orientation": "horizontal",
            "style": "IPY_MODEL_04feedbf9e9b4acda46cef3eb5d267fa",
            "value": 2
          }
        },
        "762c34375fa54426a88194933bfb2241": {
          "model_module": "@jupyter-widgets/controls",
          "model_name": "HTMLModel",
          "model_module_version": "1.5.0",
          "state": {
            "_dom_classes": [],
            "_model_module": "@jupyter-widgets/controls",
            "_model_module_version": "1.5.0",
            "_model_name": "HTMLModel",
            "_view_count": null,
            "_view_module": "@jupyter-widgets/controls",
            "_view_module_version": "1.5.0",
            "_view_name": "HTMLView",
            "description": "",
            "description_tooltip": null,
            "layout": "IPY_MODEL_6e840fac01a6446d9d9e15109294072f",
            "placeholder": "​",
            "style": "IPY_MODEL_e13d228a55a64e61bd90d2cb0eb780b9",
            "value": " 2/7 [00:19&lt;00:50, 10.18s/cell]"
          }
        },
        "4487e103ff5c4a69b0a63ed3d95bb07b": {
          "model_module": "@jupyter-widgets/base",
          "model_name": "LayoutModel",
          "model_module_version": "1.2.0",
          "state": {
            "_model_module": "@jupyter-widgets/base",
            "_model_module_version": "1.2.0",
            "_model_name": "LayoutModel",
            "_view_count": null,
            "_view_module": "@jupyter-widgets/base",
            "_view_module_version": "1.2.0",
            "_view_name": "LayoutView",
            "align_content": null,
            "align_items": null,
            "align_self": null,
            "border": null,
            "bottom": null,
            "display": null,
            "flex": null,
            "flex_flow": null,
            "grid_area": null,
            "grid_auto_columns": null,
            "grid_auto_flow": null,
            "grid_auto_rows": null,
            "grid_column": null,
            "grid_gap": null,
            "grid_row": null,
            "grid_template_areas": null,
            "grid_template_columns": null,
            "grid_template_rows": null,
            "height": null,
            "justify_content": null,
            "justify_items": null,
            "left": null,
            "margin": null,
            "max_height": null,
            "max_width": null,
            "min_height": null,
            "min_width": null,
            "object_fit": null,
            "object_position": null,
            "order": null,
            "overflow": null,
            "overflow_x": null,
            "overflow_y": null,
            "padding": null,
            "right": null,
            "top": null,
            "visibility": null,
            "width": null
          }
        },
        "e778cd0a5e0041f4a0fb4e97d34af1cd": {
          "model_module": "@jupyter-widgets/base",
          "model_name": "LayoutModel",
          "model_module_version": "1.2.0",
          "state": {
            "_model_module": "@jupyter-widgets/base",
            "_model_module_version": "1.2.0",
            "_model_name": "LayoutModel",
            "_view_count": null,
            "_view_module": "@jupyter-widgets/base",
            "_view_module_version": "1.2.0",
            "_view_name": "LayoutView",
            "align_content": null,
            "align_items": null,
            "align_self": null,
            "border": null,
            "bottom": null,
            "display": null,
            "flex": null,
            "flex_flow": null,
            "grid_area": null,
            "grid_auto_columns": null,
            "grid_auto_flow": null,
            "grid_auto_rows": null,
            "grid_column": null,
            "grid_gap": null,
            "grid_row": null,
            "grid_template_areas": null,
            "grid_template_columns": null,
            "grid_template_rows": null,
            "height": null,
            "justify_content": null,
            "justify_items": null,
            "left": null,
            "margin": null,
            "max_height": null,
            "max_width": null,
            "min_height": null,
            "min_width": null,
            "object_fit": null,
            "object_position": null,
            "order": null,
            "overflow": null,
            "overflow_x": null,
            "overflow_y": null,
            "padding": null,
            "right": null,
            "top": null,
            "visibility": null,
            "width": null
          }
        },
        "0adb83a94c3f40fbae2a592af807098b": {
          "model_module": "@jupyter-widgets/controls",
          "model_name": "DescriptionStyleModel",
          "model_module_version": "1.5.0",
          "state": {
            "_model_module": "@jupyter-widgets/controls",
            "_model_module_version": "1.5.0",
            "_model_name": "DescriptionStyleModel",
            "_view_count": null,
            "_view_module": "@jupyter-widgets/base",
            "_view_module_version": "1.2.0",
            "_view_name": "StyleView",
            "description_width": ""
          }
        },
        "fa2993806ae64c3f8ce7b92a986d54d2": {
          "model_module": "@jupyter-widgets/base",
          "model_name": "LayoutModel",
          "model_module_version": "1.2.0",
          "state": {
            "_model_module": "@jupyter-widgets/base",
            "_model_module_version": "1.2.0",
            "_model_name": "LayoutModel",
            "_view_count": null,
            "_view_module": "@jupyter-widgets/base",
            "_view_module_version": "1.2.0",
            "_view_name": "LayoutView",
            "align_content": null,
            "align_items": null,
            "align_self": null,
            "border": null,
            "bottom": null,
            "display": null,
            "flex": null,
            "flex_flow": null,
            "grid_area": null,
            "grid_auto_columns": null,
            "grid_auto_flow": null,
            "grid_auto_rows": null,
            "grid_column": null,
            "grid_gap": null,
            "grid_row": null,
            "grid_template_areas": null,
            "grid_template_columns": null,
            "grid_template_rows": null,
            "height": null,
            "justify_content": null,
            "justify_items": null,
            "left": null,
            "margin": null,
            "max_height": null,
            "max_width": null,
            "min_height": null,
            "min_width": null,
            "object_fit": null,
            "object_position": null,
            "order": null,
            "overflow": null,
            "overflow_x": null,
            "overflow_y": null,
            "padding": null,
            "right": null,
            "top": null,
            "visibility": null,
            "width": null
          }
        },
        "04feedbf9e9b4acda46cef3eb5d267fa": {
          "model_module": "@jupyter-widgets/controls",
          "model_name": "ProgressStyleModel",
          "model_module_version": "1.5.0",
          "state": {
            "_model_module": "@jupyter-widgets/controls",
            "_model_module_version": "1.5.0",
            "_model_name": "ProgressStyleModel",
            "_view_count": null,
            "_view_module": "@jupyter-widgets/base",
            "_view_module_version": "1.2.0",
            "_view_name": "StyleView",
            "bar_color": null,
            "description_width": ""
          }
        },
        "6e840fac01a6446d9d9e15109294072f": {
          "model_module": "@jupyter-widgets/base",
          "model_name": "LayoutModel",
          "model_module_version": "1.2.0",
          "state": {
            "_model_module": "@jupyter-widgets/base",
            "_model_module_version": "1.2.0",
            "_model_name": "LayoutModel",
            "_view_count": null,
            "_view_module": "@jupyter-widgets/base",
            "_view_module_version": "1.2.0",
            "_view_name": "LayoutView",
            "align_content": null,
            "align_items": null,
            "align_self": null,
            "border": null,
            "bottom": null,
            "display": null,
            "flex": null,
            "flex_flow": null,
            "grid_area": null,
            "grid_auto_columns": null,
            "grid_auto_flow": null,
            "grid_auto_rows": null,
            "grid_column": null,
            "grid_gap": null,
            "grid_row": null,
            "grid_template_areas": null,
            "grid_template_columns": null,
            "grid_template_rows": null,
            "height": null,
            "justify_content": null,
            "justify_items": null,
            "left": null,
            "margin": null,
            "max_height": null,
            "max_width": null,
            "min_height": null,
            "min_width": null,
            "object_fit": null,
            "object_position": null,
            "order": null,
            "overflow": null,
            "overflow_x": null,
            "overflow_y": null,
            "padding": null,
            "right": null,
            "top": null,
            "visibility": null,
            "width": null
          }
        },
        "e13d228a55a64e61bd90d2cb0eb780b9": {
          "model_module": "@jupyter-widgets/controls",
          "model_name": "DescriptionStyleModel",
          "model_module_version": "1.5.0",
          "state": {
            "_model_module": "@jupyter-widgets/controls",
            "_model_module_version": "1.5.0",
            "_model_name": "DescriptionStyleModel",
            "_view_count": null,
            "_view_module": "@jupyter-widgets/base",
            "_view_module_version": "1.2.0",
            "_view_name": "StyleView",
            "description_width": ""
          }
        }
      }
    }
  },
  "cells": [
    {
      "cell_type": "markdown",
      "metadata": {
        "id": "view-in-github",
        "colab_type": "text"
      },
      "source": [
        "<a href=\"https://colab.research.google.com/github/rbaner21/technosignature-pipeline-v2/blob/main/notebooks/run_all.ipynb\" target=\"_parent\"><img src=\"https://colab.research.google.com/assets/colab-badge.svg\" alt=\"Open In Colab\"/></a>"
      ]
    },
    {
      "cell_type": "code",
      "execution_count": 13,
      "metadata": {
        "colab": {
          "base_uri": "https://localhost:8080/"
        },
        "id": "in7ESUo2Ufl_",
        "outputId": "c781fa4a-5404-46c7-ab25-ca3a33e374aa"
      },
      "outputs": [
        {
          "output_type": "stream",
          "name": "stdout",
          "text": [
            "Cloning into 'technosignature-pipeline-v2'...\n",
            "remote: Enumerating objects: 113, done.\u001b[K\n",
            "remote: Counting objects: 100% (113/113), done.\u001b[K\n",
            "remote: Compressing objects: 100% (108/108), done.\u001b[K\n",
            "remote: Total 113 (delta 43), reused 23 (delta 1), pack-reused 0 (from 0)\u001b[K\n",
            "Receiving objects: 100% (113/113), 41.98 KiB | 661.00 KiB/s, done.\n",
            "Resolving deltas: 100% (43/43), done.\n"
          ]
        }
      ],
      "source": [
        "# Fresh clone and setup\n",
        "!rm -rf technosignature-pipeline-v2\n",
        "!git clone https://github.com/rbaner21/technosignature-pipeline-v2.git\n",
        "\n",
        "# Make sure outputs exist\n",
        "!mkdir -p technosignature-pipeline-v2/outputs\n",
        "!mkdir -p technosignature-pipeline-v2/outputs/reports\n",
        "\n",
        "# Install papermill to drive the notebooks\n",
        "!pip install -q papermill\n"
      ]
    },
    {
      "cell_type": "code",
      "source": [
        "import os, papermill as pm\n",
        "\n",
        "# Absolute path to your repo\n",
        "repo = os.path.join(os.getcwd(), \"technosignature-pipeline-v2\")\n",
        "outdir = os.path.join(repo, \"outputs\")\n",
        "\n",
        "# Guarantee outputs folder exists\n",
        "os.makedirs(outdir, exist_ok=True)\n",
        "\n",
        "NOTEBOOKS = [\n",
        "    \"1_data_access\",\n",
        "    \"2_preprocessing\",\n",
        "    \"3_feature_engineering\",\n",
        "    \"4_modeling\"\n",
        "]\n",
        "\n",
        "for nb in NOTEBOOKS:\n",
        "    inp  = os.path.join(repo, \"notebooks\", f\"{nb}.ipynb\")\n",
        "    outp = os.path.join(outdir, f\"{nb}_executed.ipynb\")\n",
        "    print(f\"▶ Running {nb}.ipynb\")\n",
        "    # Run the notebook with cwd set to the repo root\n",
        "    pm.execute_notebook(inp, outp, cwd=repo)\n",
        "\n",
        "print(\"✅ All 4 notebooks executed.\")\n"
      ],
      "metadata": {
        "id": "asnAXPQkU6B5",
        "outputId": "32dccaac-6907-4f89-9844-4c67bcf9fe9f",
        "colab": {
          "base_uri": "https://localhost:8080/",
          "height": 1000,
          "referenced_widgets": [
            "c9c3bb3431f14c608591167361176c40",
            "cd85651b6a9c40a3a2761c7050d767ce",
            "a01f1fe35a7948819fc794fd89becebb",
            "762c34375fa54426a88194933bfb2241",
            "4487e103ff5c4a69b0a63ed3d95bb07b",
            "e778cd0a5e0041f4a0fb4e97d34af1cd",
            "0adb83a94c3f40fbae2a592af807098b",
            "fa2993806ae64c3f8ce7b92a986d54d2",
            "04feedbf9e9b4acda46cef3eb5d267fa",
            "6e840fac01a6446d9d9e15109294072f",
            "e13d228a55a64e61bd90d2cb0eb780b9"
          ]
        }
      },
      "execution_count": 14,
      "outputs": [
        {
          "output_type": "stream",
          "name": "stdout",
          "text": [
            "▶ Running 1_data_access.ipynb\n"
          ]
        },
        {
          "output_type": "display_data",
          "data": {
            "text/plain": [
              "Executing:   0%|          | 0/7 [00:00<?, ?cell/s]"
            ],
            "application/vnd.jupyter.widget-view+json": {
              "version_major": 2,
              "version_minor": 0,
              "model_id": "c9c3bb3431f14c608591167361176c40"
            }
          },
          "metadata": {}
        },
        {
          "output_type": "stream",
          "name": "stderr",
          "text": [
            "ERROR:papermill:unhandled iopub msg: colab_request\n",
            "ERROR:papermill:unhandled iopub msg: colab_request\n",
            "ERROR:papermill:unhandled iopub msg: colab_request\n",
            "ERROR:papermill:unhandled iopub msg: colab_request\n",
            "ERROR:papermill:unhandled iopub msg: colab_request\n",
            "ERROR:papermill:unhandled iopub msg: colab_request\n",
            "ERROR:papermill:unhandled iopub msg: colab_request\n",
            "ERROR:papermill:unhandled iopub msg: colab_request\n",
            "ERROR:papermill:unhandled iopub msg: colab_request\n"
          ]
        },
        {
          "output_type": "error",
          "ename": "PapermillExecutionError",
          "evalue": "\n---------------------------------------------------------------------------\nException encountered at \"In [2]\":\n---------------------------------------------------------------------------\nOSError                                   Traceback (most recent call last)\n<ipython-input-2-6ca8afdfdcc6> in <cell line: 0>()\n      7 )\n      8 pl = pd.read_csv(url)\n----> 9 pl.to_csv(\"inputs/confirmed_planets.csv\", index=False)\n     10 print(f\"✅ Confirmed planets: {len(pl)} rows saved\")\n\n/usr/local/lib/python3.11/dist-packages/pandas/util/_decorators.py in wrapper(*args, **kwargs)\n    331                     stacklevel=find_stack_level(),\n    332                 )\n--> 333             return func(*args, **kwargs)\n    334 \n    335         # error: \"Callable[[VarArg(Any), KwArg(Any)], Any]\" has no\n\n/usr/local/lib/python3.11/dist-packages/pandas/core/generic.py in to_csv(self, path_or_buf, sep, na_rep, float_format, columns, header, index, index_label, mode, encoding, compression, quoting, quotechar, lineterminator, chunksize, date_format, doublequote, escapechar, decimal, errors, storage_options)\n   3965         )\n   3966 \n-> 3967         return DataFrameRenderer(formatter).to_csv(\n   3968             path_or_buf,\n   3969             lineterminator=lineterminator,\n\n/usr/local/lib/python3.11/dist-packages/pandas/io/formats/format.py in to_csv(self, path_or_buf, encoding, sep, columns, index_label, mode, compression, quoting, quotechar, lineterminator, chunksize, date_format, doublequote, escapechar, errors, storage_options)\n   1012             formatter=self.fmt,\n   1013         )\n-> 1014         csv_formatter.save()\n   1015 \n   1016         if created_buffer:\n\n/usr/local/lib/python3.11/dist-packages/pandas/io/formats/csvs.py in save(self)\n    249         \"\"\"\n    250         # apply compression and byte/text conversion\n--> 251         with get_handle(\n    252             self.filepath_or_buffer,\n    253             self.mode,\n\n/usr/local/lib/python3.11/dist-packages/pandas/io/common.py in get_handle(path_or_buf, mode, encoding, compression, memory_map, is_text, errors, storage_options)\n    747     # Only for write methods\n    748     if \"r\" not in mode and is_path:\n--> 749         check_parent_directory(str(handle))\n    750 \n    751     if compression:\n\n/usr/local/lib/python3.11/dist-packages/pandas/io/common.py in check_parent_directory(path)\n    614     parent = Path(path).parent\n    615     if not parent.is_dir():\n--> 616         raise OSError(rf\"Cannot save file into a non-existent directory: '{parent}'\")\n    617 \n    618 \n\nOSError: Cannot save file into a non-existent directory: 'inputs'\n",
          "traceback": [
            "\u001b[0;31m---------------------------------------------------------------------------\u001b[0m",
            "\u001b[0;31mPapermillExecutionError\u001b[0m                   Traceback (most recent call last)",
            "\u001b[0;32m<ipython-input-14-01303bdab086>\u001b[0m in \u001b[0;36m<cell line: 0>\u001b[0;34m()\u001b[0m\n\u001b[1;32m     20\u001b[0m     \u001b[0mprint\u001b[0m\u001b[0;34m(\u001b[0m\u001b[0;34mf\"▶ Running {nb}.ipynb\"\u001b[0m\u001b[0;34m)\u001b[0m\u001b[0;34m\u001b[0m\u001b[0;34m\u001b[0m\u001b[0m\n\u001b[1;32m     21\u001b[0m     \u001b[0;31m# Run the notebook with cwd set to the repo root\u001b[0m\u001b[0;34m\u001b[0m\u001b[0;34m\u001b[0m\u001b[0m\n\u001b[0;32m---> 22\u001b[0;31m     \u001b[0mpm\u001b[0m\u001b[0;34m.\u001b[0m\u001b[0mexecute_notebook\u001b[0m\u001b[0;34m(\u001b[0m\u001b[0minp\u001b[0m\u001b[0;34m,\u001b[0m \u001b[0moutp\u001b[0m\u001b[0;34m,\u001b[0m \u001b[0mcwd\u001b[0m\u001b[0;34m=\u001b[0m\u001b[0mrepo\u001b[0m\u001b[0;34m)\u001b[0m\u001b[0;34m\u001b[0m\u001b[0;34m\u001b[0m\u001b[0m\n\u001b[0m\u001b[1;32m     23\u001b[0m \u001b[0;34m\u001b[0m\u001b[0m\n\u001b[1;32m     24\u001b[0m \u001b[0mprint\u001b[0m\u001b[0;34m(\u001b[0m\u001b[0;34m\"✅ All 4 notebooks executed.\"\u001b[0m\u001b[0;34m)\u001b[0m\u001b[0;34m\u001b[0m\u001b[0;34m\u001b[0m\u001b[0m\n",
            "\u001b[0;32m/usr/local/lib/python3.11/dist-packages/papermill/execute.py\u001b[0m in \u001b[0;36mexecute_notebook\u001b[0;34m(input_path, output_path, parameters, engine_name, request_save_on_cell_execute, prepare_only, kernel_name, language, progress_bar, log_output, stdout_file, stderr_file, start_timeout, report_mode, cwd, **engine_kwargs)\u001b[0m\n\u001b[1;32m    129\u001b[0m \u001b[0;34m\u001b[0m\u001b[0m\n\u001b[1;32m    130\u001b[0m             \u001b[0;31m# Check for errors first (it saves on error before raising)\u001b[0m\u001b[0;34m\u001b[0m\u001b[0;34m\u001b[0m\u001b[0m\n\u001b[0;32m--> 131\u001b[0;31m             \u001b[0mraise_for_execution_errors\u001b[0m\u001b[0;34m(\u001b[0m\u001b[0mnb\u001b[0m\u001b[0;34m,\u001b[0m \u001b[0moutput_path\u001b[0m\u001b[0;34m)\u001b[0m\u001b[0;34m\u001b[0m\u001b[0;34m\u001b[0m\u001b[0m\n\u001b[0m\u001b[1;32m    132\u001b[0m \u001b[0;34m\u001b[0m\u001b[0m\n\u001b[1;32m    133\u001b[0m         \u001b[0;31m# Write final output in case the engine didn't write it on cell completion.\u001b[0m\u001b[0;34m\u001b[0m\u001b[0;34m\u001b[0m\u001b[0m\n",
            "\u001b[0;32m/usr/local/lib/python3.11/dist-packages/papermill/execute.py\u001b[0m in \u001b[0;36mraise_for_execution_errors\u001b[0;34m(nb, output_path)\u001b[0m\n\u001b[1;32m    249\u001b[0m \u001b[0;34m\u001b[0m\u001b[0m\n\u001b[1;32m    250\u001b[0m         \u001b[0mwrite_ipynb\u001b[0m\u001b[0;34m(\u001b[0m\u001b[0mnb\u001b[0m\u001b[0;34m,\u001b[0m \u001b[0moutput_path\u001b[0m\u001b[0;34m)\u001b[0m\u001b[0;34m\u001b[0m\u001b[0;34m\u001b[0m\u001b[0m\n\u001b[0;32m--> 251\u001b[0;31m         \u001b[0;32mraise\u001b[0m \u001b[0merror\u001b[0m\u001b[0;34m\u001b[0m\u001b[0;34m\u001b[0m\u001b[0m\n\u001b[0m",
            "\u001b[0;31mPapermillExecutionError\u001b[0m: \n---------------------------------------------------------------------------\nException encountered at \"In [2]\":\n---------------------------------------------------------------------------\nOSError                                   Traceback (most recent call last)\n<ipython-input-2-6ca8afdfdcc6> in <cell line: 0>()\n      7 )\n      8 pl = pd.read_csv(url)\n----> 9 pl.to_csv(\"inputs/confirmed_planets.csv\", index=False)\n     10 print(f\"✅ Confirmed planets: {len(pl)} rows saved\")\n\n/usr/local/lib/python3.11/dist-packages/pandas/util/_decorators.py in wrapper(*args, **kwargs)\n    331                     stacklevel=find_stack_level(),\n    332                 )\n--> 333             return func(*args, **kwargs)\n    334 \n    335         # error: \"Callable[[VarArg(Any), KwArg(Any)], Any]\" has no\n\n/usr/local/lib/python3.11/dist-packages/pandas/core/generic.py in to_csv(self, path_or_buf, sep, na_rep, float_format, columns, header, index, index_label, mode, encoding, compression, quoting, quotechar, lineterminator, chunksize, date_format, doublequote, escapechar, decimal, errors, storage_options)\n   3965         )\n   3966 \n-> 3967         return DataFrameRenderer(formatter).to_csv(\n   3968             path_or_buf,\n   3969             lineterminator=lineterminator,\n\n/usr/local/lib/python3.11/dist-packages/pandas/io/formats/format.py in to_csv(self, path_or_buf, encoding, sep, columns, index_label, mode, compression, quoting, quotechar, lineterminator, chunksize, date_format, doublequote, escapechar, errors, storage_options)\n   1012             formatter=self.fmt,\n   1013         )\n-> 1014         csv_formatter.save()\n   1015 \n   1016         if created_buffer:\n\n/usr/local/lib/python3.11/dist-packages/pandas/io/formats/csvs.py in save(self)\n    249         \"\"\"\n    250         # apply compression and byte/text conversion\n--> 251         with get_handle(\n    252             self.filepath_or_buffer,\n    253             self.mode,\n\n/usr/local/lib/python3.11/dist-packages/pandas/io/common.py in get_handle(path_or_buf, mode, encoding, compression, memory_map, is_text, errors, storage_options)\n    747     # Only for write methods\n    748     if \"r\" not in mode and is_path:\n--> 749         check_parent_directory(str(handle))\n    750 \n    751     if compression:\n\n/usr/local/lib/python3.11/dist-packages/pandas/io/common.py in check_parent_directory(path)\n    614     parent = Path(path).parent\n    615     if not parent.is_dir():\n--> 616         raise OSError(rf\"Cannot save file into a non-existent directory: '{parent}'\")\n    617 \n    618 \n\nOSError: Cannot save file into a non-existent directory: 'inputs'\n"
          ]
        }
      ]
    },
    {
      "cell_type": "code",
      "source": [
        "# Now your report generator picks up top_candidates.csv\n",
        "!python technosignature-pipeline-v2/src/report.py\n",
        "echo \"✅ Reports in technosignature-pipeline-v2/outputs/reports/\"\n"
      ],
      "metadata": {
        "id": "NCxZqmgmU7eJ"
      },
      "execution_count": null,
      "outputs": []
    }
  ]
}