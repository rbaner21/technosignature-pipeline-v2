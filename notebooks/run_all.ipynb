{
  "nbformat": 4,
  "nbformat_minor": 0,
  "metadata": {
    "colab": {
      "provenance": [],
      "gpuType": "T4",
      "authorship_tag": "ABX9TyNkqHGDIzDeO8VKjE/yfi6y",
      "include_colab_link": true
    },
    "kernelspec": {
      "name": "python3",
      "display_name": "Python 3"
    },
    "language_info": {
      "name": "python"
    },
    "accelerator": "GPU",
    "widgets": {
      "application/vnd.jupyter.widget-state+json": {
        "1730545a935548bf8cb4a17c44ddfd10": {
          "model_module": "@jupyter-widgets/controls",
          "model_name": "HBoxModel",
          "model_module_version": "1.5.0",
          "state": {
            "_dom_classes": [],
            "_model_module": "@jupyter-widgets/controls",
            "_model_module_version": "1.5.0",
            "_model_name": "HBoxModel",
            "_view_count": null,
            "_view_module": "@jupyter-widgets/controls",
            "_view_module_version": "1.5.0",
            "_view_name": "HBoxView",
            "box_style": "",
            "children": [
              "IPY_MODEL_7af889a6dce9458eaf35b52976b5c111",
              "IPY_MODEL_92a5f29a39ba4215b495e03fcfe7d255",
              "IPY_MODEL_e404f83c893948c89afa8edfc829a9bb"
            ],
            "layout": "IPY_MODEL_903e70df4679446986cef3b18efb3114"
          }
        },
        "7af889a6dce9458eaf35b52976b5c111": {
          "model_module": "@jupyter-widgets/controls",
          "model_name": "HTMLModel",
          "model_module_version": "1.5.0",
          "state": {
            "_dom_classes": [],
            "_model_module": "@jupyter-widgets/controls",
            "_model_module_version": "1.5.0",
            "_model_name": "HTMLModel",
            "_view_count": null,
            "_view_module": "@jupyter-widgets/controls",
            "_view_module_version": "1.5.0",
            "_view_name": "HTMLView",
            "description": "",
            "description_tooltip": null,
            "layout": "IPY_MODEL_5165c5adcb704ddfa6fb328f71ad3be9",
            "placeholder": "​",
            "style": "IPY_MODEL_67dcf66fb1944ed1b2d8d96de7208061",
            "value": "Executing:  29%"
          }
        },
        "92a5f29a39ba4215b495e03fcfe7d255": {
          "model_module": "@jupyter-widgets/controls",
          "model_name": "FloatProgressModel",
          "model_module_version": "1.5.0",
          "state": {
            "_dom_classes": [],
            "_model_module": "@jupyter-widgets/controls",
            "_model_module_version": "1.5.0",
            "_model_name": "FloatProgressModel",
            "_view_count": null,
            "_view_module": "@jupyter-widgets/controls",
            "_view_module_version": "1.5.0",
            "_view_name": "ProgressView",
            "bar_style": "danger",
            "description": "",
            "description_tooltip": null,
            "layout": "IPY_MODEL_52ad255b5c3a4d6d92cfbe4684f6a9d4",
            "max": 7,
            "min": 0,
            "orientation": "horizontal",
            "style": "IPY_MODEL_dfcce1dfc8af45e38852f67ba1df499a",
            "value": 2
          }
        },
        "e404f83c893948c89afa8edfc829a9bb": {
          "model_module": "@jupyter-widgets/controls",
          "model_name": "HTMLModel",
          "model_module_version": "1.5.0",
          "state": {
            "_dom_classes": [],
            "_model_module": "@jupyter-widgets/controls",
            "_model_module_version": "1.5.0",
            "_model_name": "HTMLModel",
            "_view_count": null,
            "_view_module": "@jupyter-widgets/controls",
            "_view_module_version": "1.5.0",
            "_view_name": "HTMLView",
            "description": "",
            "description_tooltip": null,
            "layout": "IPY_MODEL_c6fd5a626e4144889b39a6de34b5c194",
            "placeholder": "​",
            "style": "IPY_MODEL_1c9cf52712df4ca3a7c358673209faaf",
            "value": " 2/7 [00:16&lt;00:42,  8.56s/cell]"
          }
        },
        "903e70df4679446986cef3b18efb3114": {
          "model_module": "@jupyter-widgets/base",
          "model_name": "LayoutModel",
          "model_module_version": "1.2.0",
          "state": {
            "_model_module": "@jupyter-widgets/base",
            "_model_module_version": "1.2.0",
            "_model_name": "LayoutModel",
            "_view_count": null,
            "_view_module": "@jupyter-widgets/base",
            "_view_module_version": "1.2.0",
            "_view_name": "LayoutView",
            "align_content": null,
            "align_items": null,
            "align_self": null,
            "border": null,
            "bottom": null,
            "display": null,
            "flex": null,
            "flex_flow": null,
            "grid_area": null,
            "grid_auto_columns": null,
            "grid_auto_flow": null,
            "grid_auto_rows": null,
            "grid_column": null,
            "grid_gap": null,
            "grid_row": null,
            "grid_template_areas": null,
            "grid_template_columns": null,
            "grid_template_rows": null,
            "height": null,
            "justify_content": null,
            "justify_items": null,
            "left": null,
            "margin": null,
            "max_height": null,
            "max_width": null,
            "min_height": null,
            "min_width": null,
            "object_fit": null,
            "object_position": null,
            "order": null,
            "overflow": null,
            "overflow_x": null,
            "overflow_y": null,
            "padding": null,
            "right": null,
            "top": null,
            "visibility": null,
            "width": null
          }
        },
        "5165c5adcb704ddfa6fb328f71ad3be9": {
          "model_module": "@jupyter-widgets/base",
          "model_name": "LayoutModel",
          "model_module_version": "1.2.0",
          "state": {
            "_model_module": "@jupyter-widgets/base",
            "_model_module_version": "1.2.0",
            "_model_name": "LayoutModel",
            "_view_count": null,
            "_view_module": "@jupyter-widgets/base",
            "_view_module_version": "1.2.0",
            "_view_name": "LayoutView",
            "align_content": null,
            "align_items": null,
            "align_self": null,
            "border": null,
            "bottom": null,
            "display": null,
            "flex": null,
            "flex_flow": null,
            "grid_area": null,
            "grid_auto_columns": null,
            "grid_auto_flow": null,
            "grid_auto_rows": null,
            "grid_column": null,
            "grid_gap": null,
            "grid_row": null,
            "grid_template_areas": null,
            "grid_template_columns": null,
            "grid_template_rows": null,
            "height": null,
            "justify_content": null,
            "justify_items": null,
            "left": null,
            "margin": null,
            "max_height": null,
            "max_width": null,
            "min_height": null,
            "min_width": null,
            "object_fit": null,
            "object_position": null,
            "order": null,
            "overflow": null,
            "overflow_x": null,
            "overflow_y": null,
            "padding": null,
            "right": null,
            "top": null,
            "visibility": null,
            "width": null
          }
        },
        "67dcf66fb1944ed1b2d8d96de7208061": {
          "model_module": "@jupyter-widgets/controls",
          "model_name": "DescriptionStyleModel",
          "model_module_version": "1.5.0",
          "state": {
            "_model_module": "@jupyter-widgets/controls",
            "_model_module_version": "1.5.0",
            "_model_name": "DescriptionStyleModel",
            "_view_count": null,
            "_view_module": "@jupyter-widgets/base",
            "_view_module_version": "1.2.0",
            "_view_name": "StyleView",
            "description_width": ""
          }
        },
        "52ad255b5c3a4d6d92cfbe4684f6a9d4": {
          "model_module": "@jupyter-widgets/base",
          "model_name": "LayoutModel",
          "model_module_version": "1.2.0",
          "state": {
            "_model_module": "@jupyter-widgets/base",
            "_model_module_version": "1.2.0",
            "_model_name": "LayoutModel",
            "_view_count": null,
            "_view_module": "@jupyter-widgets/base",
            "_view_module_version": "1.2.0",
            "_view_name": "LayoutView",
            "align_content": null,
            "align_items": null,
            "align_self": null,
            "border": null,
            "bottom": null,
            "display": null,
            "flex": null,
            "flex_flow": null,
            "grid_area": null,
            "grid_auto_columns": null,
            "grid_auto_flow": null,
            "grid_auto_rows": null,
            "grid_column": null,
            "grid_gap": null,
            "grid_row": null,
            "grid_template_areas": null,
            "grid_template_columns": null,
            "grid_template_rows": null,
            "height": null,
            "justify_content": null,
            "justify_items": null,
            "left": null,
            "margin": null,
            "max_height": null,
            "max_width": null,
            "min_height": null,
            "min_width": null,
            "object_fit": null,
            "object_position": null,
            "order": null,
            "overflow": null,
            "overflow_x": null,
            "overflow_y": null,
            "padding": null,
            "right": null,
            "top": null,
            "visibility": null,
            "width": null
          }
        },
        "dfcce1dfc8af45e38852f67ba1df499a": {
          "model_module": "@jupyter-widgets/controls",
          "model_name": "ProgressStyleModel",
          "model_module_version": "1.5.0",
          "state": {
            "_model_module": "@jupyter-widgets/controls",
            "_model_module_version": "1.5.0",
            "_model_name": "ProgressStyleModel",
            "_view_count": null,
            "_view_module": "@jupyter-widgets/base",
            "_view_module_version": "1.2.0",
            "_view_name": "StyleView",
            "bar_color": null,
            "description_width": ""
          }
        },
        "c6fd5a626e4144889b39a6de34b5c194": {
          "model_module": "@jupyter-widgets/base",
          "model_name": "LayoutModel",
          "model_module_version": "1.2.0",
          "state": {
            "_model_module": "@jupyter-widgets/base",
            "_model_module_version": "1.2.0",
            "_model_name": "LayoutModel",
            "_view_count": null,
            "_view_module": "@jupyter-widgets/base",
            "_view_module_version": "1.2.0",
            "_view_name": "LayoutView",
            "align_content": null,
            "align_items": null,
            "align_self": null,
            "border": null,
            "bottom": null,
            "display": null,
            "flex": null,
            "flex_flow": null,
            "grid_area": null,
            "grid_auto_columns": null,
            "grid_auto_flow": null,
            "grid_auto_rows": null,
            "grid_column": null,
            "grid_gap": null,
            "grid_row": null,
            "grid_template_areas": null,
            "grid_template_columns": null,
            "grid_template_rows": null,
            "height": null,
            "justify_content": null,
            "justify_items": null,
            "left": null,
            "margin": null,
            "max_height": null,
            "max_width": null,
            "min_height": null,
            "min_width": null,
            "object_fit": null,
            "object_position": null,
            "order": null,
            "overflow": null,
            "overflow_x": null,
            "overflow_y": null,
            "padding": null,
            "right": null,
            "top": null,
            "visibility": null,
            "width": null
          }
        },
        "1c9cf52712df4ca3a7c358673209faaf": {
          "model_module": "@jupyter-widgets/controls",
          "model_name": "DescriptionStyleModel",
          "model_module_version": "1.5.0",
          "state": {
            "_model_module": "@jupyter-widgets/controls",
            "_model_module_version": "1.5.0",
            "_model_name": "DescriptionStyleModel",
            "_view_count": null,
            "_view_module": "@jupyter-widgets/base",
            "_view_module_version": "1.2.0",
            "_view_name": "StyleView",
            "description_width": ""
          }
        }
      }
    }
  },
  "cells": [
    {
      "cell_type": "markdown",
      "metadata": {
        "id": "view-in-github",
        "colab_type": "text"
      },
      "source": [
        "<a href=\"https://colab.research.google.com/github/rbaner21/technosignature-pipeline-v2/blob/main/notebooks/run_all.ipynb\" target=\"_parent\"><img src=\"https://colab.research.google.com/assets/colab-badge.svg\" alt=\"Open In Colab\"/></a>"
      ]
    },
    {
      "cell_type": "code",
      "execution_count": 4,
      "metadata": {
        "colab": {
          "base_uri": "https://localhost:8080/"
        },
        "id": "in7ESUo2Ufl_",
        "outputId": "9ef0bc71-0c32-43f6-8604-0be91d74a655"
      },
      "outputs": [
        {
          "output_type": "stream",
          "name": "stdout",
          "text": [
            "Cloning into 'technosignature-pipeline-v2'...\n",
            "remote: Enumerating objects: 125, done.\u001b[K\n",
            "remote: Counting objects: 100% (125/125), done.\u001b[K\n",
            "remote: Compressing objects: 100% (120/120), done.\u001b[K\n",
            "remote: Total 125 (delta 48), reused 23 (delta 1), pack-reused 0 (from 0)\u001b[K\n",
            "Receiving objects: 100% (125/125), 52.12 KiB | 762.00 KiB/s, done.\n",
            "Resolving deltas: 100% (48/48), done.\n"
          ]
        }
      ],
      "source": [
        "# Cell 1 in run_all.ipynb — clone + install everything once\n",
        "!rm -rf technosignature-pipeline-v2\n",
        "!git clone https://github.com/rbaner21/technosignature-pipeline-v2.git\n",
        "\n",
        "# Install both papermill (to run the notebooks) and all data‑access libs\n",
        "!pip install -q papermill s3fs astroquery lightkurve pyarrow pandas\n"
      ]
    },
    {
      "cell_type": "code",
      "source": [
        "import os, papermill as pm\n",
        "\n",
        "# Absolute path to your repo\n",
        "repo = os.path.join(os.getcwd(), \"technosignature-pipeline-v2\")\n",
        "outdir = os.path.join(repo, \"outputs\")\n",
        "\n",
        "# Guarantee outputs folder exists\n",
        "os.makedirs(outdir, exist_ok=True)\n",
        "\n",
        "NOTEBOOKS = [\n",
        "    \"1_data_access\",\n",
        "    \"2_preprocessing\",\n",
        "    \"3_feature_engineering\",\n",
        "    \"4_modeling\"\n",
        "]\n",
        "\n",
        "for nb in NOTEBOOKS:\n",
        "    inp  = os.path.join(repo, \"notebooks\", f\"{nb}.ipynb\")\n",
        "    outp = os.path.join(outdir, f\"{nb}_executed.ipynb\")\n",
        "    print(f\"▶ Running {nb}.ipynb\")\n",
        "    # Run the notebook with cwd set to the repo root\n",
        "    pm.execute_notebook(inp, outp, cwd=repo)\n",
        "\n",
        "print(\"✅ All 4 notebooks executed.\")\n"
      ],
      "metadata": {
        "id": "asnAXPQkU6B5",
        "outputId": "dd108f19-7527-4d08-dc4a-965d9835dee8",
        "colab": {
          "base_uri": "https://localhost:8080/",
          "height": 1000,
          "referenced_widgets": [
            "1730545a935548bf8cb4a17c44ddfd10",
            "7af889a6dce9458eaf35b52976b5c111",
            "92a5f29a39ba4215b495e03fcfe7d255",
            "e404f83c893948c89afa8edfc829a9bb",
            "903e70df4679446986cef3b18efb3114",
            "5165c5adcb704ddfa6fb328f71ad3be9",
            "67dcf66fb1944ed1b2d8d96de7208061",
            "52ad255b5c3a4d6d92cfbe4684f6a9d4",
            "dfcce1dfc8af45e38852f67ba1df499a",
            "c6fd5a626e4144889b39a6de34b5c194",
            "1c9cf52712df4ca3a7c358673209faaf"
          ]
        }
      },
      "execution_count": 5,
      "outputs": [
        {
          "output_type": "stream",
          "name": "stdout",
          "text": [
            "▶ Running 1_data_access.ipynb\n"
          ]
        },
        {
          "output_type": "display_data",
          "data": {
            "text/plain": [
              "Executing:   0%|          | 0/7 [00:00<?, ?cell/s]"
            ],
            "application/vnd.jupyter.widget-view+json": {
              "version_major": 2,
              "version_minor": 0,
              "model_id": "1730545a935548bf8cb4a17c44ddfd10"
            }
          },
          "metadata": {}
        },
        {
          "output_type": "stream",
          "name": "stderr",
          "text": [
            "ERROR:papermill:unhandled iopub msg: colab_request\n",
            "ERROR:papermill:unhandled iopub msg: colab_request\n",
            "ERROR:papermill:unhandled iopub msg: colab_request\n",
            "ERROR:papermill:unhandled iopub msg: colab_request\n",
            "ERROR:papermill:unhandled iopub msg: colab_request\n",
            "ERROR:papermill:unhandled iopub msg: colab_request\n",
            "ERROR:papermill:unhandled iopub msg: colab_request\n",
            "ERROR:papermill:unhandled iopub msg: colab_request\n",
            "ERROR:papermill:unhandled iopub msg: colab_request\n"
          ]
        },
        {
          "output_type": "error",
          "ename": "PapermillExecutionError",
          "evalue": "\n---------------------------------------------------------------------------\nException encountered at \"In [2]\":\n---------------------------------------------------------------------------\nOSError                                   Traceback (most recent call last)\n<ipython-input-2-6ca8afdfdcc6> in <cell line: 0>()\n      7 )\n      8 pl = pd.read_csv(url)\n----> 9 pl.to_csv(\"inputs/confirmed_planets.csv\", index=False)\n     10 print(f\"✅ Confirmed planets: {len(pl)} rows saved\")\n\n/usr/local/lib/python3.11/dist-packages/pandas/util/_decorators.py in wrapper(*args, **kwargs)\n    331                     stacklevel=find_stack_level(),\n    332                 )\n--> 333             return func(*args, **kwargs)\n    334 \n    335         # error: \"Callable[[VarArg(Any), KwArg(Any)], Any]\" has no\n\n/usr/local/lib/python3.11/dist-packages/pandas/core/generic.py in to_csv(self, path_or_buf, sep, na_rep, float_format, columns, header, index, index_label, mode, encoding, compression, quoting, quotechar, lineterminator, chunksize, date_format, doublequote, escapechar, decimal, errors, storage_options)\n   3965         )\n   3966 \n-> 3967         return DataFrameRenderer(formatter).to_csv(\n   3968             path_or_buf,\n   3969             lineterminator=lineterminator,\n\n/usr/local/lib/python3.11/dist-packages/pandas/io/formats/format.py in to_csv(self, path_or_buf, encoding, sep, columns, index_label, mode, compression, quoting, quotechar, lineterminator, chunksize, date_format, doublequote, escapechar, errors, storage_options)\n   1012             formatter=self.fmt,\n   1013         )\n-> 1014         csv_formatter.save()\n   1015 \n   1016         if created_buffer:\n\n/usr/local/lib/python3.11/dist-packages/pandas/io/formats/csvs.py in save(self)\n    249         \"\"\"\n    250         # apply compression and byte/text conversion\n--> 251         with get_handle(\n    252             self.filepath_or_buffer,\n    253             self.mode,\n\n/usr/local/lib/python3.11/dist-packages/pandas/io/common.py in get_handle(path_or_buf, mode, encoding, compression, memory_map, is_text, errors, storage_options)\n    747     # Only for write methods\n    748     if \"r\" not in mode and is_path:\n--> 749         check_parent_directory(str(handle))\n    750 \n    751     if compression:\n\n/usr/local/lib/python3.11/dist-packages/pandas/io/common.py in check_parent_directory(path)\n    614     parent = Path(path).parent\n    615     if not parent.is_dir():\n--> 616         raise OSError(rf\"Cannot save file into a non-existent directory: '{parent}'\")\n    617 \n    618 \n\nOSError: Cannot save file into a non-existent directory: 'inputs'\n",
          "traceback": [
            "\u001b[0;31m---------------------------------------------------------------------------\u001b[0m",
            "\u001b[0;31mPapermillExecutionError\u001b[0m                   Traceback (most recent call last)",
            "\u001b[0;32m<ipython-input-5-01303bdab086>\u001b[0m in \u001b[0;36m<cell line: 0>\u001b[0;34m()\u001b[0m\n\u001b[1;32m     20\u001b[0m     \u001b[0mprint\u001b[0m\u001b[0;34m(\u001b[0m\u001b[0;34mf\"▶ Running {nb}.ipynb\"\u001b[0m\u001b[0;34m)\u001b[0m\u001b[0;34m\u001b[0m\u001b[0;34m\u001b[0m\u001b[0m\n\u001b[1;32m     21\u001b[0m     \u001b[0;31m# Run the notebook with cwd set to the repo root\u001b[0m\u001b[0;34m\u001b[0m\u001b[0;34m\u001b[0m\u001b[0m\n\u001b[0;32m---> 22\u001b[0;31m     \u001b[0mpm\u001b[0m\u001b[0;34m.\u001b[0m\u001b[0mexecute_notebook\u001b[0m\u001b[0;34m(\u001b[0m\u001b[0minp\u001b[0m\u001b[0;34m,\u001b[0m \u001b[0moutp\u001b[0m\u001b[0;34m,\u001b[0m \u001b[0mcwd\u001b[0m\u001b[0;34m=\u001b[0m\u001b[0mrepo\u001b[0m\u001b[0;34m)\u001b[0m\u001b[0;34m\u001b[0m\u001b[0;34m\u001b[0m\u001b[0m\n\u001b[0m\u001b[1;32m     23\u001b[0m \u001b[0;34m\u001b[0m\u001b[0m\n\u001b[1;32m     24\u001b[0m \u001b[0mprint\u001b[0m\u001b[0;34m(\u001b[0m\u001b[0;34m\"✅ All 4 notebooks executed.\"\u001b[0m\u001b[0;34m)\u001b[0m\u001b[0;34m\u001b[0m\u001b[0;34m\u001b[0m\u001b[0m\n",
            "\u001b[0;32m/usr/local/lib/python3.11/dist-packages/papermill/execute.py\u001b[0m in \u001b[0;36mexecute_notebook\u001b[0;34m(input_path, output_path, parameters, engine_name, request_save_on_cell_execute, prepare_only, kernel_name, language, progress_bar, log_output, stdout_file, stderr_file, start_timeout, report_mode, cwd, **engine_kwargs)\u001b[0m\n\u001b[1;32m    129\u001b[0m \u001b[0;34m\u001b[0m\u001b[0m\n\u001b[1;32m    130\u001b[0m             \u001b[0;31m# Check for errors first (it saves on error before raising)\u001b[0m\u001b[0;34m\u001b[0m\u001b[0;34m\u001b[0m\u001b[0m\n\u001b[0;32m--> 131\u001b[0;31m             \u001b[0mraise_for_execution_errors\u001b[0m\u001b[0;34m(\u001b[0m\u001b[0mnb\u001b[0m\u001b[0;34m,\u001b[0m \u001b[0moutput_path\u001b[0m\u001b[0;34m)\u001b[0m\u001b[0;34m\u001b[0m\u001b[0;34m\u001b[0m\u001b[0m\n\u001b[0m\u001b[1;32m    132\u001b[0m \u001b[0;34m\u001b[0m\u001b[0m\n\u001b[1;32m    133\u001b[0m         \u001b[0;31m# Write final output in case the engine didn't write it on cell completion.\u001b[0m\u001b[0;34m\u001b[0m\u001b[0;34m\u001b[0m\u001b[0m\n",
            "\u001b[0;32m/usr/local/lib/python3.11/dist-packages/papermill/execute.py\u001b[0m in \u001b[0;36mraise_for_execution_errors\u001b[0;34m(nb, output_path)\u001b[0m\n\u001b[1;32m    249\u001b[0m \u001b[0;34m\u001b[0m\u001b[0m\n\u001b[1;32m    250\u001b[0m         \u001b[0mwrite_ipynb\u001b[0m\u001b[0;34m(\u001b[0m\u001b[0mnb\u001b[0m\u001b[0;34m,\u001b[0m \u001b[0moutput_path\u001b[0m\u001b[0;34m)\u001b[0m\u001b[0;34m\u001b[0m\u001b[0;34m\u001b[0m\u001b[0m\n\u001b[0;32m--> 251\u001b[0;31m         \u001b[0;32mraise\u001b[0m \u001b[0merror\u001b[0m\u001b[0;34m\u001b[0m\u001b[0;34m\u001b[0m\u001b[0m\n\u001b[0m",
            "\u001b[0;31mPapermillExecutionError\u001b[0m: \n---------------------------------------------------------------------------\nException encountered at \"In [2]\":\n---------------------------------------------------------------------------\nOSError                                   Traceback (most recent call last)\n<ipython-input-2-6ca8afdfdcc6> in <cell line: 0>()\n      7 )\n      8 pl = pd.read_csv(url)\n----> 9 pl.to_csv(\"inputs/confirmed_planets.csv\", index=False)\n     10 print(f\"✅ Confirmed planets: {len(pl)} rows saved\")\n\n/usr/local/lib/python3.11/dist-packages/pandas/util/_decorators.py in wrapper(*args, **kwargs)\n    331                     stacklevel=find_stack_level(),\n    332                 )\n--> 333             return func(*args, **kwargs)\n    334 \n    335         # error: \"Callable[[VarArg(Any), KwArg(Any)], Any]\" has no\n\n/usr/local/lib/python3.11/dist-packages/pandas/core/generic.py in to_csv(self, path_or_buf, sep, na_rep, float_format, columns, header, index, index_label, mode, encoding, compression, quoting, quotechar, lineterminator, chunksize, date_format, doublequote, escapechar, decimal, errors, storage_options)\n   3965         )\n   3966 \n-> 3967         return DataFrameRenderer(formatter).to_csv(\n   3968             path_or_buf,\n   3969             lineterminator=lineterminator,\n\n/usr/local/lib/python3.11/dist-packages/pandas/io/formats/format.py in to_csv(self, path_or_buf, encoding, sep, columns, index_label, mode, compression, quoting, quotechar, lineterminator, chunksize, date_format, doublequote, escapechar, errors, storage_options)\n   1012             formatter=self.fmt,\n   1013         )\n-> 1014         csv_formatter.save()\n   1015 \n   1016         if created_buffer:\n\n/usr/local/lib/python3.11/dist-packages/pandas/io/formats/csvs.py in save(self)\n    249         \"\"\"\n    250         # apply compression and byte/text conversion\n--> 251         with get_handle(\n    252             self.filepath_or_buffer,\n    253             self.mode,\n\n/usr/local/lib/python3.11/dist-packages/pandas/io/common.py in get_handle(path_or_buf, mode, encoding, compression, memory_map, is_text, errors, storage_options)\n    747     # Only for write methods\n    748     if \"r\" not in mode and is_path:\n--> 749         check_parent_directory(str(handle))\n    750 \n    751     if compression:\n\n/usr/local/lib/python3.11/dist-packages/pandas/io/common.py in check_parent_directory(path)\n    614     parent = Path(path).parent\n    615     if not parent.is_dir():\n--> 616         raise OSError(rf\"Cannot save file into a non-existent directory: '{parent}'\")\n    617 \n    618 \n\nOSError: Cannot save file into a non-existent directory: 'inputs'\n"
          ]
        }
      ]
    },
    {
      "cell_type": "code",
      "source": [
        "# Now your report generator picks up top_candidates.csv\n",
        "!python technosignature-pipeline-v2/src/report.py\n",
        "echo \"✅ Reports in technosignature-pipeline-v2/outputs/reports/\"\n"
      ],
      "metadata": {
        "id": "NCxZqmgmU7eJ"
      },
      "execution_count": null,
      "outputs": []
    }
  ]
}