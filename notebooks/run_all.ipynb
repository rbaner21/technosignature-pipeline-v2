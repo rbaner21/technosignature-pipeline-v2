{
  "nbformat": 4,
  "nbformat_minor": 0,
  "metadata": {
    "colab": {
      "provenance": [],
      "gpuType": "T4",
      "authorship_tag": "ABX9TyN3xH5vDDtPXNscIBiNutgN",
      "include_colab_link": true
    },
    "kernelspec": {
      "name": "python3",
      "display_name": "Python 3"
    },
    "language_info": {
      "name": "python"
    },
    "accelerator": "GPU",
    "widgets": {
      "application/vnd.jupyter.widget-state+json": {
        "13b068fc75e143378cb2f1c3f313d449": {
          "model_module": "@jupyter-widgets/controls",
          "model_name": "HBoxModel",
          "model_module_version": "1.5.0",
          "state": {
            "_dom_classes": [],
            "_model_module": "@jupyter-widgets/controls",
            "_model_module_version": "1.5.0",
            "_model_name": "HBoxModel",
            "_view_count": null,
            "_view_module": "@jupyter-widgets/controls",
            "_view_module_version": "1.5.0",
            "_view_name": "HBoxView",
            "box_style": "",
            "children": [
              "IPY_MODEL_14644aac65f048bab078829a0d44d3be",
              "IPY_MODEL_8f5d073d255f4421864f83fcc7670381",
              "IPY_MODEL_343746a6b7f04db4bb66c1b281674b1f"
            ],
            "layout": "IPY_MODEL_b69e269dd46948678804fa6d3b73f48a"
          }
        },
        "14644aac65f048bab078829a0d44d3be": {
          "model_module": "@jupyter-widgets/controls",
          "model_name": "HTMLModel",
          "model_module_version": "1.5.0",
          "state": {
            "_dom_classes": [],
            "_model_module": "@jupyter-widgets/controls",
            "_model_module_version": "1.5.0",
            "_model_name": "HTMLModel",
            "_view_count": null,
            "_view_module": "@jupyter-widgets/controls",
            "_view_module_version": "1.5.0",
            "_view_name": "HTMLView",
            "description": "",
            "description_tooltip": null,
            "layout": "IPY_MODEL_305307a2d76b4c7f99cf550decc0edb6",
            "placeholder": "​",
            "style": "IPY_MODEL_d103ba942ee8486ba683fffce74bc94e",
            "value": "Executing:  25%"
          }
        },
        "8f5d073d255f4421864f83fcc7670381": {
          "model_module": "@jupyter-widgets/controls",
          "model_name": "FloatProgressModel",
          "model_module_version": "1.5.0",
          "state": {
            "_dom_classes": [],
            "_model_module": "@jupyter-widgets/controls",
            "_model_module_version": "1.5.0",
            "_model_name": "FloatProgressModel",
            "_view_count": null,
            "_view_module": "@jupyter-widgets/controls",
            "_view_module_version": "1.5.0",
            "_view_name": "ProgressView",
            "bar_style": "danger",
            "description": "",
            "description_tooltip": null,
            "layout": "IPY_MODEL_34cb0854fe9243e0a54a4f5f93b651cc",
            "max": 8,
            "min": 0,
            "orientation": "horizontal",
            "style": "IPY_MODEL_69b7ed845c124e338afc06c538c74aab",
            "value": 2
          }
        },
        "343746a6b7f04db4bb66c1b281674b1f": {
          "model_module": "@jupyter-widgets/controls",
          "model_name": "HTMLModel",
          "model_module_version": "1.5.0",
          "state": {
            "_dom_classes": [],
            "_model_module": "@jupyter-widgets/controls",
            "_model_module_version": "1.5.0",
            "_model_name": "HTMLModel",
            "_view_count": null,
            "_view_module": "@jupyter-widgets/controls",
            "_view_module_version": "1.5.0",
            "_view_name": "HTMLView",
            "description": "",
            "description_tooltip": null,
            "layout": "IPY_MODEL_e371cc58ea524dea9af256db89f1fb47",
            "placeholder": "​",
            "style": "IPY_MODEL_b398a69d8edf4578be39ac2d4e27a1f5",
            "value": " 2/8 [02:19&lt;05:42, 57.05s/cell]"
          }
        },
        "b69e269dd46948678804fa6d3b73f48a": {
          "model_module": "@jupyter-widgets/base",
          "model_name": "LayoutModel",
          "model_module_version": "1.2.0",
          "state": {
            "_model_module": "@jupyter-widgets/base",
            "_model_module_version": "1.2.0",
            "_model_name": "LayoutModel",
            "_view_count": null,
            "_view_module": "@jupyter-widgets/base",
            "_view_module_version": "1.2.0",
            "_view_name": "LayoutView",
            "align_content": null,
            "align_items": null,
            "align_self": null,
            "border": null,
            "bottom": null,
            "display": null,
            "flex": null,
            "flex_flow": null,
            "grid_area": null,
            "grid_auto_columns": null,
            "grid_auto_flow": null,
            "grid_auto_rows": null,
            "grid_column": null,
            "grid_gap": null,
            "grid_row": null,
            "grid_template_areas": null,
            "grid_template_columns": null,
            "grid_template_rows": null,
            "height": null,
            "justify_content": null,
            "justify_items": null,
            "left": null,
            "margin": null,
            "max_height": null,
            "max_width": null,
            "min_height": null,
            "min_width": null,
            "object_fit": null,
            "object_position": null,
            "order": null,
            "overflow": null,
            "overflow_x": null,
            "overflow_y": null,
            "padding": null,
            "right": null,
            "top": null,
            "visibility": null,
            "width": null
          }
        },
        "305307a2d76b4c7f99cf550decc0edb6": {
          "model_module": "@jupyter-widgets/base",
          "model_name": "LayoutModel",
          "model_module_version": "1.2.0",
          "state": {
            "_model_module": "@jupyter-widgets/base",
            "_model_module_version": "1.2.0",
            "_model_name": "LayoutModel",
            "_view_count": null,
            "_view_module": "@jupyter-widgets/base",
            "_view_module_version": "1.2.0",
            "_view_name": "LayoutView",
            "align_content": null,
            "align_items": null,
            "align_self": null,
            "border": null,
            "bottom": null,
            "display": null,
            "flex": null,
            "flex_flow": null,
            "grid_area": null,
            "grid_auto_columns": null,
            "grid_auto_flow": null,
            "grid_auto_rows": null,
            "grid_column": null,
            "grid_gap": null,
            "grid_row": null,
            "grid_template_areas": null,
            "grid_template_columns": null,
            "grid_template_rows": null,
            "height": null,
            "justify_content": null,
            "justify_items": null,
            "left": null,
            "margin": null,
            "max_height": null,
            "max_width": null,
            "min_height": null,
            "min_width": null,
            "object_fit": null,
            "object_position": null,
            "order": null,
            "overflow": null,
            "overflow_x": null,
            "overflow_y": null,
            "padding": null,
            "right": null,
            "top": null,
            "visibility": null,
            "width": null
          }
        },
        "d103ba942ee8486ba683fffce74bc94e": {
          "model_module": "@jupyter-widgets/controls",
          "model_name": "DescriptionStyleModel",
          "model_module_version": "1.5.0",
          "state": {
            "_model_module": "@jupyter-widgets/controls",
            "_model_module_version": "1.5.0",
            "_model_name": "DescriptionStyleModel",
            "_view_count": null,
            "_view_module": "@jupyter-widgets/base",
            "_view_module_version": "1.2.0",
            "_view_name": "StyleView",
            "description_width": ""
          }
        },
        "34cb0854fe9243e0a54a4f5f93b651cc": {
          "model_module": "@jupyter-widgets/base",
          "model_name": "LayoutModel",
          "model_module_version": "1.2.0",
          "state": {
            "_model_module": "@jupyter-widgets/base",
            "_model_module_version": "1.2.0",
            "_model_name": "LayoutModel",
            "_view_count": null,
            "_view_module": "@jupyter-widgets/base",
            "_view_module_version": "1.2.0",
            "_view_name": "LayoutView",
            "align_content": null,
            "align_items": null,
            "align_self": null,
            "border": null,
            "bottom": null,
            "display": null,
            "flex": null,
            "flex_flow": null,
            "grid_area": null,
            "grid_auto_columns": null,
            "grid_auto_flow": null,
            "grid_auto_rows": null,
            "grid_column": null,
            "grid_gap": null,
            "grid_row": null,
            "grid_template_areas": null,
            "grid_template_columns": null,
            "grid_template_rows": null,
            "height": null,
            "justify_content": null,
            "justify_items": null,
            "left": null,
            "margin": null,
            "max_height": null,
            "max_width": null,
            "min_height": null,
            "min_width": null,
            "object_fit": null,
            "object_position": null,
            "order": null,
            "overflow": null,
            "overflow_x": null,
            "overflow_y": null,
            "padding": null,
            "right": null,
            "top": null,
            "visibility": null,
            "width": null
          }
        },
        "69b7ed845c124e338afc06c538c74aab": {
          "model_module": "@jupyter-widgets/controls",
          "model_name": "ProgressStyleModel",
          "model_module_version": "1.5.0",
          "state": {
            "_model_module": "@jupyter-widgets/controls",
            "_model_module_version": "1.5.0",
            "_model_name": "ProgressStyleModel",
            "_view_count": null,
            "_view_module": "@jupyter-widgets/base",
            "_view_module_version": "1.2.0",
            "_view_name": "StyleView",
            "bar_color": null,
            "description_width": ""
          }
        },
        "e371cc58ea524dea9af256db89f1fb47": {
          "model_module": "@jupyter-widgets/base",
          "model_name": "LayoutModel",
          "model_module_version": "1.2.0",
          "state": {
            "_model_module": "@jupyter-widgets/base",
            "_model_module_version": "1.2.0",
            "_model_name": "LayoutModel",
            "_view_count": null,
            "_view_module": "@jupyter-widgets/base",
            "_view_module_version": "1.2.0",
            "_view_name": "LayoutView",
            "align_content": null,
            "align_items": null,
            "align_self": null,
            "border": null,
            "bottom": null,
            "display": null,
            "flex": null,
            "flex_flow": null,
            "grid_area": null,
            "grid_auto_columns": null,
            "grid_auto_flow": null,
            "grid_auto_rows": null,
            "grid_column": null,
            "grid_gap": null,
            "grid_row": null,
            "grid_template_areas": null,
            "grid_template_columns": null,
            "grid_template_rows": null,
            "height": null,
            "justify_content": null,
            "justify_items": null,
            "left": null,
            "margin": null,
            "max_height": null,
            "max_width": null,
            "min_height": null,
            "min_width": null,
            "object_fit": null,
            "object_position": null,
            "order": null,
            "overflow": null,
            "overflow_x": null,
            "overflow_y": null,
            "padding": null,
            "right": null,
            "top": null,
            "visibility": null,
            "width": null
          }
        },
        "b398a69d8edf4578be39ac2d4e27a1f5": {
          "model_module": "@jupyter-widgets/controls",
          "model_name": "DescriptionStyleModel",
          "model_module_version": "1.5.0",
          "state": {
            "_model_module": "@jupyter-widgets/controls",
            "_model_module_version": "1.5.0",
            "_model_name": "DescriptionStyleModel",
            "_view_count": null,
            "_view_module": "@jupyter-widgets/base",
            "_view_module_version": "1.2.0",
            "_view_name": "StyleView",
            "description_width": ""
          }
        }
      }
    }
  },
  "cells": [
    {
      "cell_type": "markdown",
      "metadata": {
        "id": "view-in-github",
        "colab_type": "text"
      },
      "source": [
        "<a href=\"https://colab.research.google.com/github/rbaner21/technosignature-pipeline-v2/blob/main/notebooks/run_all.ipynb\" target=\"_parent\"><img src=\"https://colab.research.google.com/assets/colab-badge.svg\" alt=\"Open In Colab\"/></a>"
      ]
    },
    {
      "cell_type": "code",
      "execution_count": null,
      "metadata": {
        "colab": {
          "base_uri": "https://localhost:8080/"
        },
        "id": "in7ESUo2Ufl_",
        "outputId": "724b9cdb-2e8e-480a-8050-c59a14d3b0aa"
      },
      "outputs": [
        {
          "output_type": "stream",
          "name": "stdout",
          "text": [
            "Cloning into 'technosignature-pipeline-v2'...\n",
            "remote: Enumerating objects: 57, done.\u001b[K\n",
            "remote: Counting objects: 100% (57/57), done.\u001b[K\n",
            "remote: Compressing objects: 100% (52/52), done.\u001b[K\n",
            "Receiving objects: 100% (57/57), 18.14 KiB | 9.07 MiB/s, done.\n",
            "Resolving deltas: 100% (17/17), done.\n",
            "remote: Total 57 (delta 17), reused 23 (delta 1), pack-reused 0 (from 0)\u001b[K\n"
          ]
        }
      ],
      "source": [
        "# 1) (Re)clone your repo so it’s fresh\n",
        "!rm -rf technosignature-pipeline-v2\n",
        "!git clone https://github.com/rbaner21/technosignature-pipeline-v2.git\n",
        "\n",
        "# 2) Create the directories papermill and your notebooks expect\n",
        "!mkdir -p technosignature-pipeline-v2/outputs\n",
        "!mkdir -p technosignature-pipeline-v2/outputs/reports\n",
        "\n",
        "# 3) Install only the extras Colab doesn’t already have\n",
        "!pip install -q s3fs astroquery lightkurve papermill\n",
        "\n"
      ]
    },
    {
      "cell_type": "code",
      "source": [
        "import papermill as pm\n",
        "\n",
        "NOTEBOOKS = [\n",
        "  \"1_data_access\",\n",
        "  \"2_preprocessing\",\n",
        "  \"3_feature_engineering\",\n",
        "  \"4_modeling\"\n",
        "]\n",
        "\n",
        "for nb in NOTEBOOKS:\n",
        "    input_path  = f\"technosignature-pipeline-v2/notebooks/{nb}.ipynb\"\n",
        "    output_path = f\"technosignature-pipeline-v2/outputs/{nb}_executed.ipynb\"\n",
        "    print(f\"▶ Running {nb} → {output_path}\")\n",
        "    pm.execute_notebook(input_path, output_path)\n",
        "print(\"✅ All pipeline notebooks executed\")\n"
      ],
      "metadata": {
        "id": "asnAXPQkU6B5",
        "outputId": "3d3ba79f-0a71-4974-8433-77eb4d1b429f",
        "colab": {
          "base_uri": "https://localhost:8080/",
          "height": 1000,
          "referenced_widgets": [
            "13b068fc75e143378cb2f1c3f313d449",
            "14644aac65f048bab078829a0d44d3be",
            "8f5d073d255f4421864f83fcc7670381",
            "343746a6b7f04db4bb66c1b281674b1f",
            "b69e269dd46948678804fa6d3b73f48a",
            "305307a2d76b4c7f99cf550decc0edb6",
            "d103ba942ee8486ba683fffce74bc94e",
            "34cb0854fe9243e0a54a4f5f93b651cc",
            "69b7ed845c124e338afc06c538c74aab",
            "e371cc58ea524dea9af256db89f1fb47",
            "b398a69d8edf4578be39ac2d4e27a1f5"
          ]
        }
      },
      "execution_count": null,
      "outputs": [
        {
          "output_type": "stream",
          "name": "stdout",
          "text": [
            "▶ Running 1_data_access → technosignature-pipeline-v2/outputs/1_data_access_executed.ipynb\n"
          ]
        },
        {
          "output_type": "display_data",
          "data": {
            "text/plain": [
              "Executing:   0%|          | 0/8 [00:00<?, ?cell/s]"
            ],
            "application/vnd.jupyter.widget-view+json": {
              "version_major": 2,
              "version_minor": 0,
              "model_id": "13b068fc75e143378cb2f1c3f313d449"
            }
          },
          "metadata": {}
        },
        {
          "output_type": "stream",
          "name": "stderr",
          "text": [
            "ERROR:papermill:unhandled iopub msg: colab_request\n",
            "ERROR:papermill:unhandled iopub msg: colab_request\n",
            "ERROR:papermill:unhandled iopub msg: colab_request\n",
            "ERROR:papermill:unhandled iopub msg: colab_request\n",
            "ERROR:papermill:unhandled iopub msg: colab_request\n",
            "ERROR:papermill:unhandled iopub msg: colab_request\n"
          ]
        },
        {
          "output_type": "error",
          "ename": "PapermillExecutionError",
          "evalue": "\n---------------------------------------------------------------------------\nException encountered at \"In [2]\":\n---------------------------------------------------------------------------\nNoSuchBucket                              Traceback (most recent call last)\n/usr/local/lib/python3.11/dist-packages/s3fs/core.py in _error_wrapper(func, args, kwargs, retries)\n    113         try:\n--> 114             return await func(*args, **kwargs)\n    115         except S3_RETRYABLE_ERRORS as e:\n\n/usr/local/lib/python3.11/dist-packages/aiobotocore/client.py in _make_api_call(self, operation_name, api_params)\n    411             error_class = self.exceptions.from_code(error_code)\n--> 412             raise error_class(parsed_response, operation_name)\n    413         else:\n\nNoSuchBucket: An error occurred (NoSuchBucket) when calling the GetObject operation: The specified bucket does not exist\n\nThe above exception was the direct cause of the following exception:\n\nFileNotFoundError                         Traceback (most recent call last)\n<ipython-input-2-25fa2997ddc1> in <cell line: 0>()\n      2 import s3fs\n      3 fs = s3fs.S3FileSystem(anon=True)                # anon access\n----> 4 fs.get('nasa-neowise-public/parquet/data.parquet','inputs/neowise.parquet')  # save locally\n\n/usr/local/lib/python3.11/dist-packages/fsspec/asyn.py in wrapper(*args, **kwargs)\n    116     def wrapper(*args, **kwargs):\n    117         self = obj or args[0]\n--> 118         return sync(self.loop, func, *args, **kwargs)\n    119 \n    120     return wrapper\n\n/usr/local/lib/python3.11/dist-packages/fsspec/asyn.py in sync(loop, func, timeout, *args, **kwargs)\n    101         raise FSTimeoutError from return_result\n    102     elif isinstance(return_result, BaseException):\n--> 103         raise return_result\n    104     else:\n    105         return return_result\n\n/usr/local/lib/python3.11/dist-packages/fsspec/asyn.py in _runner(event, coro, result, timeout)\n     54         coro = asyncio.wait_for(coro, timeout=timeout)\n     55     try:\n---> 56         result[0] = await coro\n     57     except Exception as ex:\n     58         result[0] = ex\n\n/usr/local/lib/python3.11/dist-packages/fsspec/asyn.py in _get(self, rpath, lpath, recursive, callback, maxdepth, **kwargs)\n    679             get_file = callback.branch_coro(self._get_file)\n    680             coros.append(get_file(rpath, lpath, **kwargs))\n--> 681         return await _run_coros_in_chunks(\n    682             coros, batch_size=batch_size, callback=callback\n    683         )\n\n/usr/local/lib/python3.11/dist-packages/fsspec/asyn.py in _run_coros_in_chunks(coros, batch_size, callback, timeout, return_exceptions, nofiles)\n    278         done, pending = await asyncio.wait(pending, return_when=asyncio.FIRST_COMPLETED)\n    279         while done:\n--> 280             result, k = await done.pop()\n    281             results[k] = result\n    282 \n\n/usr/local/lib/python3.11/dist-packages/fsspec/asyn.py in _run_coro(coro, i)\n    255     async def _run_coro(coro, i):\n    256         try:\n--> 257             return await asyncio.wait_for(coro, timeout=timeout), i\n    258         except Exception as e:\n    259             if not return_exceptions:\n\n/usr/lib/python3.11/asyncio/tasks.py in wait_for(fut, timeout)\n    450 \n    451     if timeout is None:\n--> 452         return await fut\n    453 \n    454     if timeout <= 0:\n\n/usr/local/lib/python3.11/dist-packages/fsspec/callbacks.py in func(path1, path2, **kwargs)\n     79         async def func(path1, path2: str, **kwargs):\n     80             with self.branched(path1, path2, **kwargs) as child:\n---> 81                 return await fn(path1, path2, callback=child, **kwargs)\n     82 \n     83         return func\n\n/usr/local/lib/python3.11/dist-packages/s3fs/core.py in _get_file(self, rpath, lpath, callback, version_id, **kwargs)\n   1367             return resp[\"Body\"], resp.get(\"ContentLength\", None)\n   1368 \n-> 1369         body, content_length = await _open_file(range=0)\n   1370         callback.set_size(content_length)\n   1371 \n\n/usr/local/lib/python3.11/dist-packages/s3fs/core.py in _open_file(range)\n   1358             if range:\n   1359                 kw[\"Range\"] = f\"bytes={range}-\"\n-> 1360             resp = await self._call_s3(\n   1361                 \"get_object\",\n   1362                 Bucket=bucket,\n\n/usr/local/lib/python3.11/dist-packages/s3fs/core.py in _call_s3(self, method, *akwarglist, **kwargs)\n    369         logger.debug(\"CALL: %s - %s - %s\", method.__name__, akwarglist, kw2)\n    370         additional_kwargs = self._get_s3_method_kwargs(method, *akwarglist, **kwargs)\n--> 371         return await _error_wrapper(\n    372             method, kwargs=additional_kwargs, retries=self.retries\n    373         )\n\n/usr/local/lib/python3.11/dist-packages/s3fs/core.py in _error_wrapper(func, args, kwargs, retries)\n    144             err = e\n    145     err = translate_boto_error(err)\n--> 146     raise err\n    147 \n    148 \n\nFileNotFoundError: The specified bucket does not exist\n",
          "traceback": [
            "\u001b[0;31m---------------------------------------------------------------------------\u001b[0m",
            "\u001b[0;31mPapermillExecutionError\u001b[0m                   Traceback (most recent call last)",
            "\u001b[0;32m<ipython-input-5-e07e526003c6>\u001b[0m in \u001b[0;36m<cell line: 0>\u001b[0;34m()\u001b[0m\n\u001b[1;32m     12\u001b[0m     \u001b[0moutput_path\u001b[0m \u001b[0;34m=\u001b[0m \u001b[0;34mf\"technosignature-pipeline-v2/outputs/{nb}_executed.ipynb\"\u001b[0m\u001b[0;34m\u001b[0m\u001b[0;34m\u001b[0m\u001b[0m\n\u001b[1;32m     13\u001b[0m     \u001b[0mprint\u001b[0m\u001b[0;34m(\u001b[0m\u001b[0;34mf\"▶ Running {nb} → {output_path}\"\u001b[0m\u001b[0;34m)\u001b[0m\u001b[0;34m\u001b[0m\u001b[0;34m\u001b[0m\u001b[0m\n\u001b[0;32m---> 14\u001b[0;31m     \u001b[0mpm\u001b[0m\u001b[0;34m.\u001b[0m\u001b[0mexecute_notebook\u001b[0m\u001b[0;34m(\u001b[0m\u001b[0minput_path\u001b[0m\u001b[0;34m,\u001b[0m \u001b[0moutput_path\u001b[0m\u001b[0;34m)\u001b[0m\u001b[0;34m\u001b[0m\u001b[0;34m\u001b[0m\u001b[0m\n\u001b[0m\u001b[1;32m     15\u001b[0m \u001b[0mprint\u001b[0m\u001b[0;34m(\u001b[0m\u001b[0;34m\"✅ All pipeline notebooks executed\"\u001b[0m\u001b[0;34m)\u001b[0m\u001b[0;34m\u001b[0m\u001b[0;34m\u001b[0m\u001b[0m\n",
            "\u001b[0;32m/usr/local/lib/python3.11/dist-packages/papermill/execute.py\u001b[0m in \u001b[0;36mexecute_notebook\u001b[0;34m(input_path, output_path, parameters, engine_name, request_save_on_cell_execute, prepare_only, kernel_name, language, progress_bar, log_output, stdout_file, stderr_file, start_timeout, report_mode, cwd, **engine_kwargs)\u001b[0m\n\u001b[1;32m    129\u001b[0m \u001b[0;34m\u001b[0m\u001b[0m\n\u001b[1;32m    130\u001b[0m             \u001b[0;31m# Check for errors first (it saves on error before raising)\u001b[0m\u001b[0;34m\u001b[0m\u001b[0;34m\u001b[0m\u001b[0m\n\u001b[0;32m--> 131\u001b[0;31m             \u001b[0mraise_for_execution_errors\u001b[0m\u001b[0;34m(\u001b[0m\u001b[0mnb\u001b[0m\u001b[0;34m,\u001b[0m \u001b[0moutput_path\u001b[0m\u001b[0;34m)\u001b[0m\u001b[0;34m\u001b[0m\u001b[0;34m\u001b[0m\u001b[0m\n\u001b[0m\u001b[1;32m    132\u001b[0m \u001b[0;34m\u001b[0m\u001b[0m\n\u001b[1;32m    133\u001b[0m         \u001b[0;31m# Write final output in case the engine didn't write it on cell completion.\u001b[0m\u001b[0;34m\u001b[0m\u001b[0;34m\u001b[0m\u001b[0m\n",
            "\u001b[0;32m/usr/local/lib/python3.11/dist-packages/papermill/execute.py\u001b[0m in \u001b[0;36mraise_for_execution_errors\u001b[0;34m(nb, output_path)\u001b[0m\n\u001b[1;32m    249\u001b[0m \u001b[0;34m\u001b[0m\u001b[0m\n\u001b[1;32m    250\u001b[0m         \u001b[0mwrite_ipynb\u001b[0m\u001b[0;34m(\u001b[0m\u001b[0mnb\u001b[0m\u001b[0;34m,\u001b[0m \u001b[0moutput_path\u001b[0m\u001b[0;34m)\u001b[0m\u001b[0;34m\u001b[0m\u001b[0;34m\u001b[0m\u001b[0m\n\u001b[0;32m--> 251\u001b[0;31m         \u001b[0;32mraise\u001b[0m \u001b[0merror\u001b[0m\u001b[0;34m\u001b[0m\u001b[0;34m\u001b[0m\u001b[0m\n\u001b[0m",
            "\u001b[0;31mPapermillExecutionError\u001b[0m: \n---------------------------------------------------------------------------\nException encountered at \"In [2]\":\n---------------------------------------------------------------------------\nNoSuchBucket                              Traceback (most recent call last)\n/usr/local/lib/python3.11/dist-packages/s3fs/core.py in _error_wrapper(func, args, kwargs, retries)\n    113         try:\n--> 114             return await func(*args, **kwargs)\n    115         except S3_RETRYABLE_ERRORS as e:\n\n/usr/local/lib/python3.11/dist-packages/aiobotocore/client.py in _make_api_call(self, operation_name, api_params)\n    411             error_class = self.exceptions.from_code(error_code)\n--> 412             raise error_class(parsed_response, operation_name)\n    413         else:\n\nNoSuchBucket: An error occurred (NoSuchBucket) when calling the GetObject operation: The specified bucket does not exist\n\nThe above exception was the direct cause of the following exception:\n\nFileNotFoundError                         Traceback (most recent call last)\n<ipython-input-2-25fa2997ddc1> in <cell line: 0>()\n      2 import s3fs\n      3 fs = s3fs.S3FileSystem(anon=True)                # anon access\n----> 4 fs.get('nasa-neowise-public/parquet/data.parquet','inputs/neowise.parquet')  # save locally\n\n/usr/local/lib/python3.11/dist-packages/fsspec/asyn.py in wrapper(*args, **kwargs)\n    116     def wrapper(*args, **kwargs):\n    117         self = obj or args[0]\n--> 118         return sync(self.loop, func, *args, **kwargs)\n    119 \n    120     return wrapper\n\n/usr/local/lib/python3.11/dist-packages/fsspec/asyn.py in sync(loop, func, timeout, *args, **kwargs)\n    101         raise FSTimeoutError from return_result\n    102     elif isinstance(return_result, BaseException):\n--> 103         raise return_result\n    104     else:\n    105         return return_result\n\n/usr/local/lib/python3.11/dist-packages/fsspec/asyn.py in _runner(event, coro, result, timeout)\n     54         coro = asyncio.wait_for(coro, timeout=timeout)\n     55     try:\n---> 56         result[0] = await coro\n     57     except Exception as ex:\n     58         result[0] = ex\n\n/usr/local/lib/python3.11/dist-packages/fsspec/asyn.py in _get(self, rpath, lpath, recursive, callback, maxdepth, **kwargs)\n    679             get_file = callback.branch_coro(self._get_file)\n    680             coros.append(get_file(rpath, lpath, **kwargs))\n--> 681         return await _run_coros_in_chunks(\n    682             coros, batch_size=batch_size, callback=callback\n    683         )\n\n/usr/local/lib/python3.11/dist-packages/fsspec/asyn.py in _run_coros_in_chunks(coros, batch_size, callback, timeout, return_exceptions, nofiles)\n    278         done, pending = await asyncio.wait(pending, return_when=asyncio.FIRST_COMPLETED)\n    279         while done:\n--> 280             result, k = await done.pop()\n    281             results[k] = result\n    282 \n\n/usr/local/lib/python3.11/dist-packages/fsspec/asyn.py in _run_coro(coro, i)\n    255     async def _run_coro(coro, i):\n    256         try:\n--> 257             return await asyncio.wait_for(coro, timeout=timeout), i\n    258         except Exception as e:\n    259             if not return_exceptions:\n\n/usr/lib/python3.11/asyncio/tasks.py in wait_for(fut, timeout)\n    450 \n    451     if timeout is None:\n--> 452         return await fut\n    453 \n    454     if timeout <= 0:\n\n/usr/local/lib/python3.11/dist-packages/fsspec/callbacks.py in func(path1, path2, **kwargs)\n     79         async def func(path1, path2: str, **kwargs):\n     80             with self.branched(path1, path2, **kwargs) as child:\n---> 81                 return await fn(path1, path2, callback=child, **kwargs)\n     82 \n     83         return func\n\n/usr/local/lib/python3.11/dist-packages/s3fs/core.py in _get_file(self, rpath, lpath, callback, version_id, **kwargs)\n   1367             return resp[\"Body\"], resp.get(\"ContentLength\", None)\n   1368 \n-> 1369         body, content_length = await _open_file(range=0)\n   1370         callback.set_size(content_length)\n   1371 \n\n/usr/local/lib/python3.11/dist-packages/s3fs/core.py in _open_file(range)\n   1358             if range:\n   1359                 kw[\"Range\"] = f\"bytes={range}-\"\n-> 1360             resp = await self._call_s3(\n   1361                 \"get_object\",\n   1362                 Bucket=bucket,\n\n/usr/local/lib/python3.11/dist-packages/s3fs/core.py in _call_s3(self, method, *akwarglist, **kwargs)\n    369         logger.debug(\"CALL: %s - %s - %s\", method.__name__, akwarglist, kw2)\n    370         additional_kwargs = self._get_s3_method_kwargs(method, *akwarglist, **kwargs)\n--> 371         return await _error_wrapper(\n    372             method, kwargs=additional_kwargs, retries=self.retries\n    373         )\n\n/usr/local/lib/python3.11/dist-packages/s3fs/core.py in _error_wrapper(func, args, kwargs, retries)\n    144             err = e\n    145     err = translate_boto_error(err)\n--> 146     raise err\n    147 \n    148 \n\nFileNotFoundError: The specified bucket does not exist\n"
          ]
        }
      ]
    },
    {
      "cell_type": "code",
      "source": [
        "# from inside Colab we can run your report script\n",
        "!python technosignature-pipeline-v2/src/report.py\n",
        "print(\"✅ Reports generated in outputs/reports/\")\n"
      ],
      "metadata": {
        "id": "NCxZqmgmU7eJ"
      },
      "execution_count": null,
      "outputs": []
    },
    {
      "cell_type": "code",
      "source": [
        "import pandas as pd\n",
        "df = pd.read_csv(\"technosignature-pipeline-v2/outputs/top_candidates.csv\")\n",
        "df.head(10)\n"
      ],
      "metadata": {
        "id": "4sXSXO3aU9Xc"
      },
      "execution_count": null,
      "outputs": []
    }
  ]
}