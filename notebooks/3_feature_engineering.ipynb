{
  "cells": [
    {
      "cell_type": "code",
      "source": [
        "import os\n",
        "os.makedirs(\"outputs\", exist_ok=True)\n",
        "print(\"✅ Feature engineering ready\")\n"
      ],
      "metadata": {
        "id": "jtsyu0_N_G8s",
        "outputId": "8c6a6fa6-36f3-4de0-ae12-c1a2ef0c7bdc",
        "colab": {
          "base_uri": "https://localhost:8080/"
        }
      },
      "id": "jtsyu0_N_G8s",
      "execution_count": null,
      "outputs": [
        {
          "output_type": "stream",
          "name": "stdout",
          "text": [
            "Cloning into 'technosignature-pipeline-v2'...\n",
            "remote: Enumerating objects: 89, done.\u001b[K\n",
            "remote: Counting objects: 100% (89/89), done.\u001b[K\n",
            "remote: Compressing objects: 100% (84/84), done.\u001b[K\n",
            "remote: Total 89 (delta 31), reused 23 (delta 1), pack-reused 0 (from 0)\u001b[K\n",
            "Receiving objects: 100% (89/89), 32.86 KiB | 3.65 MiB/s, done.\n",
            "Resolving deltas: 100% (31/31), done.\n"
          ]
        }
      ]
    },
    {
      "cell_type": "code",
      "source": [
        "import pandas as pd\n",
        "from astropy.coordinates import SkyCoord, match_coordinates_sky\n",
        "import astropy.units as u\n",
        "\n",
        "# Load master & all flag tables\n",
        "master = pd.read_csv(\"inputs/confirmed_planets.csv\")\n",
        "wise   = pd.read_csv(\"inputs/wise_photometry_icrs.csv\")\n",
        "ps     = pd.read_csv(\"inputs/panstarrs.csv\")\n",
        "sd     = pd.read_csv(\"inputs/sdss.csv\")\n",
        "bl     = pd.read_csv(\"inputs/bl_filtered_icrs.csv\")\n",
        "tess   = pd.read_csv(\"inputs/tess_flags.csv\")\n",
        "gaia   = pd.read_csv(\"inputs/gaia_flags.csv\")\n",
        "spec   = pd.read_csv(\"inputs/spec_flags.csv\")\n",
        "\n",
        "coords_pl = SkyCoord(master[\"ra\"]*u.deg, master[\"dec\"]*u.deg)\n",
        "\n",
        "# IR flag (5″ cone)\n",
        "coords_w = SkyCoord(wise[\"ra_icrs\"]*u.deg, wise[\"dec_icrs\"]*u.deg)\n",
        "_,d2d,_ = match_coordinates_sky(coords_pl, coords_w)\n",
        "master[\"ir_flag\"] = d2d < 5*u.arcsec\n",
        "\n",
        "# Pan‑STARRS flag by name\n",
        "master = master.merge(ps[[\"pl_name\",\"ps_flag\"]], on=\"pl_name\", how=\"left\")\n",
        "\n",
        "# SDSS flag by name\n",
        "master = master.merge(sd[[\"pl_name\",\"sdss_flag\"]], on=\"pl_name\", how=\"left\")\n",
        "\n",
        "# BL, TESS, Gaia, Spec as before\n",
        "coords_b = SkyCoord(bl[\"ra_icrs\"]*u.deg, bl[\"dec_icrs\"]*u.deg)\n",
        "_,d2d,_ = match_coordinates_sky(coords_pl, coords_b)\n",
        "master[\"radio_flag\"] = d2d < 1*u.arcsec\n",
        "\n",
        "master = master.merge(tess[[\"tic_id\",\"tess_flag\"]], on=\"tic_id\", how=\"left\")\n",
        "master = master.merge(gaia[[\"pl_name\",\"gaia_flag\"]], on=\"pl_name\", how=\"left\")\n",
        "master[\"spec_flag\"] = False  # or your mapping\n",
        "\n",
        "# Fill NaNs\n",
        "for col in [\"ps_flag\",\"sdss_flag\",\"tess_flag\",\"gaia_flag\"]:\n",
        "    master[col] = master[col].fillna(False)\n",
        "\n",
        "# Save\n",
        "master.to_csv(\"outputs/feature_matrix.csv\", index=False)\n",
        "print(\"✅ feature_matrix.csv with PS & SDSS flags saved\")\n"
      ],
      "metadata": {
        "id": "ixbaQ5lRdehu"
      },
      "id": "ixbaQ5lRdehu",
      "execution_count": null,
      "outputs": []
    }
  ],
  "metadata": {
    "colab": {
      "provenance": [],
      "gpuType": "T4"
    },
    "language_info": {
      "name": "python"
    },
    "accelerator": "GPU",
    "kernelspec": {
      "name": "python3",
      "display_name": "Python 3"
    }
  },
  "nbformat": 4,
  "nbformat_minor": 5
}