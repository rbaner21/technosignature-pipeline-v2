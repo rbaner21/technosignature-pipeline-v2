{
  "cells": [
    {
      "cell_type": "code",
      "source": [
        "import os\n",
        "os.makedirs(\"outputs\", exist_ok=True)\n",
        "print(\"✅ Feature engineering ready\")\n"
      ],
      "metadata": {
        "id": "jtsyu0_N_G8s",
        "outputId": "8c6a6fa6-36f3-4de0-ae12-c1a2ef0c7bdc",
        "colab": {
          "base_uri": "https://localhost:8080/"
        }
      },
      "id": "jtsyu0_N_G8s",
      "execution_count": null,
      "outputs": [
        {
          "output_type": "stream",
          "name": "stdout",
          "text": [
            "Cloning into 'technosignature-pipeline-v2'...\n",
            "remote: Enumerating objects: 89, done.\u001b[K\n",
            "remote: Counting objects: 100% (89/89), done.\u001b[K\n",
            "remote: Compressing objects: 100% (84/84), done.\u001b[K\n",
            "remote: Total 89 (delta 31), reused 23 (delta 1), pack-reused 0 (from 0)\u001b[K\n",
            "Receiving objects: 100% (89/89), 32.86 KiB | 3.65 MiB/s, done.\n",
            "Resolving deltas: 100% (31/31), done.\n"
          ]
        }
      ]
    },
    {
      "cell_type": "code",
      "source": [
        "# Cell 2: Phase 1 feature build (no TESS)\n",
        "import os\n",
        "import pandas as pd\n",
        "from astropy.coordinates import SkyCoord, match_coordinates_sky\n",
        "import astropy.units as u\n",
        "\n",
        "# — 1) Load master planet list\n",
        "planets = pd.read_csv(\"inputs/confirmed_planets.csv\")\n",
        "\n",
        "# — 2) Load all the flag/catalog tables\n",
        "wise = pd.read_csv(\"inputs/wise_photometry.csv\")       # AllWISE IR\n",
        "ps   = pd.read_csv(\"inputs/panstarrs.csv\")             # Pan‑STARRS hits\n",
        "sd   = pd.read_csv(\"inputs/sdss.csv\")                  # SDSS hits\n",
        "bl   = pd.read_csv(\"inputs/bl_filtered.csv\")           # BL radio hits (filtered)\n",
        "gaia = pd.read_csv(\"inputs/gaia_flags.csv\")            # Gaia RUWE flags\n",
        "spec = pd.read_csv(\"inputs/spec_flags.csv\")            # Spectral spike flags\n",
        "\n",
        "# — 3) Start the feature matrix with the planet table\n",
        "master = planets.copy()\n",
        "coords_planets = SkyCoord(master[\"ra\"]*u.deg, master[\"dec\"]*u.deg)\n",
        "\n",
        "# — 4) IR flag: match AllWISE positions within 5″\n",
        "coords_wise = SkyCoord(wise[\"ra\"]*u.deg, wise[\"dec\"]*u.deg)\n",
        "_, d2d_ir, _ = match_coordinates_sky(coords_planets, coords_wise)\n",
        "master[\"ir_flag\"] = d2d_ir < 5*u.arcsec\n",
        "\n",
        "# — 5) PS1 & SDSS: merge by planet name\n",
        "master = master.merge(\n",
        "    ps[[\"pl_name\",\"ps_flag\"]],\n",
        "    on=\"pl_name\", how=\"left\"\n",
        ").merge(\n",
        "    sd[[\"pl_name\",\"sdss_flag\"]],\n",
        "    on=\"pl_name\", how=\"left\"\n",
        ")\n",
        "\n",
        "# — 6) Radio flag: match BL hits within 1″\n",
        "coords_bl = SkyCoord(bl[\"ra\"]*u.deg, bl[\"dec\"]*u.deg)\n",
        "_, d2d_bl, _ = match_coordinates_sky(coords_planets, coords_bl)\n",
        "master[\"radio_flag\"] = d2d_bl < 1*u.arcsec\n",
        "\n",
        "# — 7) Gaia & Spec flags: map by name (fill missing → False)\n",
        "master[\"gaia_flag\"] = (\n",
        "    master[\"pl_name\"]\n",
        "      .map(gaia.set_index(\"pl_name\")[\"gaia_flag\"])\n",
        "      .fillna(False)\n",
        ")\n",
        "master[\"spec_flag\"] = False   # unless you have a mapping from spec→pl_name\n",
        "\n",
        "# — 8) Fill any remaining NaNs in boolean columns\n",
        "for col in [\"ir_flag\",\"ps_flag\",\"sdss_flag\",\"radio_flag\",\"gaia_flag\",\"spec_flag\"]:\n",
        "    master[col] = master[col].fillna(False)\n",
        "\n",
        "# — 9) Save the base feature matrix\n",
        "os.makedirs(\"outputs\", exist_ok=True)\n",
        "master.to_csv(\"outputs/feature_base.csv\", index=False)\n",
        "\n",
        "# — 10) Compute a “base_score” & pick top 200 for TESS\n",
        "master[\"base_score\"] = master[[\n",
        "    \"ir_flag\",\"ps_flag\",\"sdss_flag\",\"radio_flag\",\"gaia_flag\",\"spec_flag\"\n",
        "]].astype(int).sum(axis=1)\n",
        "\n",
        "top200 = master.nlargest(200, \"base_score\")[[\"pl_name\",\"ra\",\"dec\",\"tic_id\"]]\n",
        "top200.to_csv(\"inputs/tess_targets.csv\", index=False)\n",
        "\n",
        "print(f\"✅ Phase 1 complete: feature_base.csv ({len(master)} rows), tess_targets.csv ({len(top200)} rows)\")\n"
      ],
      "metadata": {
        "id": "ixbaQ5lRdehu"
      },
      "id": "ixbaQ5lRdehu",
      "execution_count": null,
      "outputs": []
    }
  ],
  "metadata": {
    "colab": {
      "provenance": [],
      "gpuType": "T4"
    },
    "language_info": {
      "name": "python"
    },
    "accelerator": "GPU",
    "kernelspec": {
      "name": "python3",
      "display_name": "Python 3"
    }
  },
  "nbformat": 4,
  "nbformat_minor": 5
}