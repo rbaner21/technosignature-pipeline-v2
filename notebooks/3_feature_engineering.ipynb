{
  "cells": [
    {
      "cell_type": "code",
      "source": [
        "!rm -rf technosignature-pipeline-v2\n",
        "!git clone https://github.com/rbaner21/technosignature-pipeline-v2.git\n",
        "!pip install -q pandas astropy"
      ],
      "metadata": {
        "id": "jtsyu0_N_G8s",
        "outputId": "8c6a6fa6-36f3-4de0-ae12-c1a2ef0c7bdc",
        "colab": {
          "base_uri": "https://localhost:8080/"
        }
      },
      "id": "jtsyu0_N_G8s",
      "execution_count": 1,
      "outputs": [
        {
          "output_type": "stream",
          "name": "stdout",
          "text": [
            "Cloning into 'technosignature-pipeline-v2'...\n",
            "remote: Enumerating objects: 89, done.\u001b[K\n",
            "remote: Counting objects: 100% (89/89), done.\u001b[K\n",
            "remote: Compressing objects: 100% (84/84), done.\u001b[K\n",
            "remote: Total 89 (delta 31), reused 23 (delta 1), pack-reused 0 (from 0)\u001b[K\n",
            "Receiving objects: 100% (89/89), 32.86 KiB | 3.65 MiB/s, done.\n",
            "Resolving deltas: 100% (31/31), done.\n"
          ]
        }
      ]
    },
    {
      "cell_type": "code",
      "source": [
        "import pandas as pd\n",
        "from astropy.coordinates import SkyCoord, match_coordinates_sky\n",
        "import astropy.units as u\n",
        "\n",
        "# Load planets\n",
        "master = pd.read_csv(\"inputs/confirmed_planets.csv\")\n",
        "coords_pl = SkyCoord(master[\"ra\"]*u.deg, master[\"dec\"]*u.deg)\n",
        "\n",
        "# NEOWISE IR flag (via coords)\n",
        "df_neo = pd.read_parquet(\"inputs/neowise_filtered_icrs.parquet\")\n",
        "coords_neo = SkyCoord(df_neo[\"ra_icrs\"]*u.deg, df_neo[\"dec_icrs\"]*u.deg)\n",
        "idx,d2d,_ = match_coordinates_sky(coords_pl, coords_neo)\n",
        "master[\"ir_flag\"] = (d2d < 1*u.arcsec)\n",
        "\n",
        "# BL radio hits\n",
        "df_bl = pd.read_csv(\"inputs/bl_filtered.csv\")\n",
        "coords_bl = SkyCoord(df_bl[\"ra\"]*u.deg, df_bl[\"dec\"]*u.deg)\n",
        "idx,d2d,_ = match_coordinates_sky(coords_pl, coords_bl)\n",
        "master[\"radio_flag\"] = (d2d < 1*u.arcsec)\n",
        "\n",
        "# TESS flags by TIC ID\n",
        "df_tess = pd.read_csv(\"inputs/tess_flags.csv\")\n",
        "master = master.merge(df_tess[[\"tic_id\",\"tess_flag\"]], on=\"tic_id\", how=\"left\")\n",
        "\n",
        "# Gaia flags by planet name\n",
        "df_gaia = pd.read_csv(\"inputs/gaia_flags.csv\")\n",
        "master = master.merge(\n",
        "    df_gaia[[\"planet_id\",\"gaia_flag\"]],\n",
        "    left_on=\"pl_name\", right_on=\"planet_id\",\n",
        "    how=\"left\"\n",
        ")\n",
        "\n",
        "# HARPS spectral spikes (not by coord—just mark if any file exists)\n",
        "df_spec = pd.read_csv(\"inputs/spec_flags.csv\")\n",
        "# if ANY HARPS file matched this planet, we could set spec_flag=True.\n",
        "# Here we just broadcast False (or you can customize)\n",
        "master[\"spec_flag\"] = False\n",
        "\n",
        "# Fill missing flags\n",
        "for col in [\"tess_flag\",\"gaia_flag\"]:\n",
        "    master[col] = master[col].fillna(False)\n",
        "\n",
        "# Save feature matrix\n",
        "master.to_csv(\"outputs/feature_matrix.csv\", index=False)\n",
        "print(\"✅ Feature matrix saved:\", len(master), \"rows\")\n"
      ],
      "metadata": {
        "id": "ixbaQ5lRdehu"
      },
      "id": "ixbaQ5lRdehu",
      "execution_count": null,
      "outputs": []
    }
  ],
  "metadata": {
    "colab": {
      "provenance": [],
      "gpuType": "T4"
    },
    "language_info": {
      "name": "python"
    },
    "accelerator": "GPU",
    "kernelspec": {
      "name": "python3",
      "display_name": "Python 3"
    }
  },
  "nbformat": 4,
  "nbformat_minor": 5
}