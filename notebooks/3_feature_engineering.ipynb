{
  "cells": [
    {
      "cell_type": "code",
      "source": [
        "import os\n",
        "os.makedirs(\"outputs\", exist_ok=True)\n",
        "print(\"✅ Feature engineering ready\")\n"
      ],
      "metadata": {
        "id": "jtsyu0_N_G8s",
        "outputId": "8c6a6fa6-36f3-4de0-ae12-c1a2ef0c7bdc",
        "colab": {
          "base_uri": "https://localhost:8080/"
        }
      },
      "id": "jtsyu0_N_G8s",
      "execution_count": null,
      "outputs": [
        {
          "output_type": "stream",
          "name": "stdout",
          "text": [
            "Cloning into 'technosignature-pipeline-v2'...\n",
            "remote: Enumerating objects: 89, done.\u001b[K\n",
            "remote: Counting objects: 100% (89/89), done.\u001b[K\n",
            "remote: Compressing objects: 100% (84/84), done.\u001b[K\n",
            "remote: Total 89 (delta 31), reused 23 (delta 1), pack-reused 0 (from 0)\u001b[K\n",
            "Receiving objects: 100% (89/89), 32.86 KiB | 3.65 MiB/s, done.\n",
            "Resolving deltas: 100% (31/31), done.\n"
          ]
        }
      ]
    },
    {
      "cell_type": "code",
      "source": [
        "# Cell 2: Phase 1 feature build (no TESS) — with ra/dec → float\n",
        "import os\n",
        "import pandas as pd\n",
        "from pandas.errors import EmptyDataError\n",
        "from astropy.coordinates import SkyCoord, match_coordinates_sky\n",
        "import astropy.units as u\n",
        "\n",
        "def safe_csv(path, cols):\n",
        "    if not os.path.exists(path):\n",
        "        return pd.DataFrame(columns=cols)\n",
        "    try:\n",
        "        return pd.read_csv(path)\n",
        "    except EmptyDataError:\n",
        "        return pd.DataFrame(columns=cols)\n",
        "\n",
        "# 1) Load everything\n",
        "planets = safe_csv(\"inputs/confirmed_planets.csv\",\n",
        "                   [\"pl_name\",\"ra\",\"dec\",\"tic_id\"])\n",
        "wise    = safe_csv(\"inputs/wise_photometry.csv\",\n",
        "                   [\"pl_name\",\"ra\",\"dec\",\"w1mpro\",\"w2mpro\",\"ir_flag\"])\n",
        "ps      = safe_csv(\"inputs/panstarrs.csv\",   [\"pl_name\",\"ps_flag\"])\n",
        "sd      = safe_csv(\"inputs/sdss.csv\",        [\"pl_name\",\"sdss_flag\"])\n",
        "bl      = safe_csv(\"inputs/bl_filtered.csv\",[\"ra\",\"dec\",\"frequency_mhz\"])\n",
        "gaia    = safe_csv(\"inputs/gaia_flags.csv\",  [\"pl_name\",\"gaia_flag\"])\n",
        "spec    = safe_csv(\"inputs/spec_flags.csv\",  [\"file\",\"spike_flag\",\"spike_count\"])\n",
        "\n",
        "# 2) coerce ra/dec to float\n",
        "for df, cols in [(planets, [\"ra\",\"dec\"]), (wise, [\"ra\",\"dec\"]), (bl, [\"ra\",\"dec\"])]:\n",
        "    for c in cols:\n",
        "        if c in df:\n",
        "            df[c] = pd.to_numeric(df[c], errors=\"coerce\")\n",
        "\n",
        "print(f\"✅ Loaded: planets={len(planets)}, IR={len(wise)}, PS={len(ps)}, SDSS={len(sd)}, BL={len(bl)}, GAIA={len(gaia)}, SPEC={len(spec)}\")\n",
        "\n",
        "# 3) build master and coordinate array\n",
        "master    = planets.copy()\n",
        "coords_pl = SkyCoord(master[\"ra\"].values * u.deg,\n",
        "                     master[\"dec\"].values * u.deg)\n",
        "\n",
        "# 4) IR flag (5″)\n",
        "if not wise.empty:\n",
        "    coords_w = SkyCoord(wise[\"ra\"].values * u.deg,\n",
        "                        wise[\"dec\"].values * u.deg)\n",
        "    _, d2d_ir, _ = match_coordinates_sky(coords_pl, coords_w)\n",
        "    master[\"ir_flag\"] = d2d_ir < 5 * u.arcsec\n",
        "else:\n",
        "    master[\"ir_flag\"] = False\n",
        "\n",
        "# 5) PS1 & SDSS by name\n",
        "master = (\n",
        "    master\n",
        "    .merge(ps[[\"pl_name\",\"ps_flag\"]],   on=\"pl_name\", how=\"left\")\n",
        "    .merge(sd[[\"pl_name\",\"sdss_flag\"]], on=\"pl_name\", how=\"left\")\n",
        ")\n",
        "\n",
        "# 6) Radio flag (1″)\n",
        "if not bl.empty:\n",
        "    coords_b = SkyCoord(bl[\"ra\"].values * u.deg,\n",
        "                        bl[\"dec\"].values * u.deg)\n",
        "    _, d2d_bl, _ = match_coordinates_sky(coords_pl, coords_b)\n",
        "    master[\"radio_flag\"] = d2d_bl < 1 * u.arcsec\n",
        "else:\n",
        "    master[\"radio_flag\"] = False\n",
        "\n",
        "# 7) Gaia & Spec\n",
        "master[\"gaia_flag\"] = (\n",
        "    master[\"pl_name\"]\n",
        "      .map(gaia.set_index(\"pl_name\")[\"gaia_flag\"])\n",
        "      .fillna(False)\n",
        ")\n",
        "master[\"spec_flag\"] = False\n",
        "\n",
        "# 8) fill NaNs & save\n",
        "for col in [\"ir_flag\",\"ps_flag\",\"sdss_flag\",\"radio_flag\",\"gaia_flag\",\"spec_flag\"]:\n",
        "    master[col] = master[col].fillna(False)\n",
        "\n",
        "os.makedirs(\"outputs\", exist_ok=True)\n",
        "master.to_csv(\"outputs/feature_base.csv\", index=False)\n",
        "\n",
        "# 9) pick top 200 for TESS\n",
        "master[\"base_score\"] = master[[\n",
        "    \"ir_flag\",\"ps_flag\",\"sdss_flag\",\"radio_flag\",\"gaia_flag\",\"spec_flag\"\n",
        "]].astype(int).sum(axis=1)\n",
        "\n",
        "top200 = master.nlargest(200, \"base_score\")[[\"pl_name\",\"ra\",\"dec\",\"tic_id\"]]\n",
        "os.makedirs(\"inputs\", exist_ok=True)\n",
        "top200.to_csv(\"inputs/tess_targets.csv\", index=False)\n",
        "\n",
        "print(f\"✅ Phase 1 done: {len(master)} rows to feature_base.csv; {len(top200)} → tess_targets.csv\")\n"
      ],
      "metadata": {
        "id": "ixbaQ5lRdehu"
      },
      "id": "ixbaQ5lRdehu",
      "execution_count": null,
      "outputs": []
    }
  ],
  "metadata": {
    "colab": {
      "provenance": [],
      "gpuType": "T4"
    },
    "language_info": {
      "name": "python"
    },
    "accelerator": "GPU",
    "kernelspec": {
      "name": "python3",
      "display_name": "Python 3"
    }
  },
  "nbformat": 4,
  "nbformat_minor": 5
}