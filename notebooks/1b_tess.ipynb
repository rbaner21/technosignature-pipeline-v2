{
  "nbformat": 4,
  "nbformat_minor": 0,
  "metadata": {
    "colab": {
      "provenance": [],
      "authorship_tag": "ABX9TyMzeekGGlvHN+/CXaG83nwm",
      "include_colab_link": true
    },
    "kernelspec": {
      "name": "python3",
      "display_name": "Python 3"
    },
    "language_info": {
      "name": "python"
    }
  },
  "cells": [
    {
      "cell_type": "markdown",
      "metadata": {
        "id": "view-in-github",
        "colab_type": "text"
      },
      "source": [
        "<a href=\"https://colab.research.google.com/github/rbaner21/technosignature-pipeline-v2/blob/main/notebooks/1b_tess.ipynb\" target=\"_parent\"><img src=\"https://colab.research.google.com/assets/colab-badge.svg\" alt=\"Open In Colab\"/></a>"
      ]
    },
    {
      "cell_type": "code",
      "execution_count": null,
      "metadata": {
        "id": "RLrcvjQonqQV"
      },
      "outputs": [],
      "source": [
        "# Cell 1: ensure inputs/tess exists & load the top200 list\n",
        "import os, pandas as pd\n",
        "os.makedirs(\"inputs/tess\", exist_ok=True)\n",
        "\n",
        "tt = pd.read_csv(\"inputs/tess_targets.csv\")\n",
        "print(f\"✅ Will run TESS on {len(tt)} targets\")\n"
      ]
    },
    {
      "cell_type": "code",
      "source": [
        "# Cell 2: loop over the 200 TICs & flag transit anomalies\n",
        "import numpy as np, pandas as pd\n",
        "import lightkurve as lk\n",
        "from astropy.timeseries import BoxLeastSquares\n",
        "\n",
        "tt = pd.read_csv(\"inputs/tess_targets.csv\")\n",
        "flags = []\n",
        "\n",
        "for tic in tt[\"tic_id\"].dropna().unique():\n",
        "    try:\n",
        "        lc = lk.search_lightcurve(f\"TIC {int(tic)}\", mission=\"TESS\").download()\n",
        "        lc_flat = lc.flatten(window_length=401)\n",
        "        bls = BoxLeastSquares(lc_flat.time, lc_flat.flux)\n",
        "        periods = np.linspace(0.5,10,5000)\n",
        "        power = bls.power(periods,0.1).power\n",
        "        depth = bls.depth.max()\n",
        "        snr   = power.max() / np.std(lc_flat.flux)\n",
        "        flags.append({\n",
        "            \"tic_id\":     tic,\n",
        "            \"tess_flag\":  bool((depth>0.05) & (snr>20)),\n",
        "            \"tess_period\":float(periods[np.argmax(power)]),\n",
        "            \"tess_snr\":   float(snr)\n",
        "        })\n",
        "    except Exception as e:\n",
        "        print(f\"TIC {tic} error: {e}\")\n",
        "\n",
        "pd.DataFrame(flags).to_csv(\"inputs/tess_flags.csv\", index=False)\n",
        "print(f\"✅ Phase 2 TESS done ({len(flags)} flags)\")\n"
      ],
      "metadata": {
        "id": "-GbBR_ARo8n5"
      },
      "execution_count": null,
      "outputs": []
    }
  ]
}