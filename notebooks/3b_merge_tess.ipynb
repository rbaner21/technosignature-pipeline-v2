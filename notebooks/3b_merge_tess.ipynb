{
  "nbformat": 4,
  "nbformat_minor": 0,
  "metadata": {
    "colab": {
      "provenance": [],
      "gpuType": "T4",
      "authorship_tag": "ABX9TyNxBMoQz90NUXtqhQcJzgjU",
      "include_colab_link": true
    },
    "kernelspec": {
      "name": "python3",
      "display_name": "Python 3"
    },
    "language_info": {
      "name": "python"
    },
    "accelerator": "GPU"
  },
  "cells": [
    {
      "cell_type": "markdown",
      "metadata": {
        "id": "view-in-github",
        "colab_type": "text"
      },
      "source": [
        "<a href=\"https://colab.research.google.com/github/rbaner21/technosignature-pipeline-v2/blob/main/notebooks/3b_merge_tess.ipynb\" target=\"_parent\"><img src=\"https://colab.research.google.com/assets/colab-badge.svg\" alt=\"Open In Colab\"/></a>"
      ]
    },
    {
      "cell_type": "code",
      "execution_count": null,
      "metadata": {
        "id": "VwKC6Y9XoGbo"
      },
      "outputs": [],
      "source": [
        "# Cell 1: ensure outputs/ exists & load base matrix + tess flags\n",
        "import os, pandas as pd\n",
        "os.makedirs(\"outputs\", exist_ok=True)\n",
        "\n",
        "base = pd.read_csv(\"outputs/feature_base.csv\")\n",
        "tess = pd.read_csv(\"inputs/tess_flags.csv\")\n",
        "print(f\"Loaded base ({len(base)}) + tess_flags ({len(tess)})\")\n"
      ]
    },
    {
      "cell_type": "code",
      "source": [
        "# Cell 2: merge TESS into the base matrix\n",
        "fm = base.merge(tess[[\"tic_id\",\"tess_flag\"]], on=\"tic_id\", how=\"left\")\n",
        "fm[\"tess_flag\"] = fm[\"tess_flag\"].fillna(False)\n",
        "\n",
        "fm.to_csv(\"outputs/feature_matrix.csv\", index=False)\n",
        "print(f\"✅ Final feature_matrix.csv ({len(fm)} rows)\")\n"
      ],
      "metadata": {
        "id": "m9-7_5O9oThY"
      },
      "execution_count": null,
      "outputs": []
    }
  ]
}