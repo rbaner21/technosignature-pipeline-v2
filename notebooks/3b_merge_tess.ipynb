{
  "nbformat": 4,
  "nbformat_minor": 0,
  "metadata": {
    "colab": {
      "provenance": [],
      "authorship_tag": "ABX9TyOjC05HZRWHlh6o85W2HMmK",
      "include_colab_link": true
    },
    "kernelspec": {
      "name": "python3",
      "display_name": "Python 3"
    },
    "language_info": {
      "name": "python"
    }
  },
  "cells": [
    {
      "cell_type": "markdown",
      "metadata": {
        "id": "view-in-github",
        "colab_type": "text"
      },
      "source": [
        "<a href=\"https://colab.research.google.com/github/rbaner21/technosignature-pipeline-v2/blob/main/notebooks/3b_merge_tess.ipynb\" target=\"_parent\"><img src=\"https://colab.research.google.com/assets/colab-badge.svg\" alt=\"Open In Colab\"/></a>"
      ]
    },
    {
      "cell_type": "code",
      "execution_count": null,
      "metadata": {
        "id": "VwKC6Y9XoGbo"
      },
      "outputs": [],
      "source": [
        "# Cell 1: ensure outputs/ exists & safely load base matrix + TESS flags\n",
        "import os\n",
        "import pandas as pd\n",
        "from pandas.errors import EmptyDataError\n",
        "\n",
        "# Make sure outputs/ is present\n",
        "os.makedirs(\"outputs\", exist_ok=True)\n",
        "\n",
        "# Helper to read a CSV or return an empty DataFrame with expected columns\n",
        "def safe_read(path, cols):\n",
        "    if not os.path.exists(path):\n",
        "        return pd.DataFrame(columns=cols)\n",
        "    try:\n",
        "        return pd.read_csv(path)\n",
        "    except EmptyDataError:\n",
        "        return pd.DataFrame(columns=cols)\n",
        "\n",
        "# 1) Load the base feature matrix\n",
        "base = pd.read_csv(\"outputs/feature_base.csv\")\n",
        "\n",
        "# 2) Load TESS flags (if present), expecting pl_name, tic_id, tess_flag\n",
        "tess_cols = [\"pl_name\", \"tic_id\", \"tess_flag\"]\n",
        "tess  = safe_read(\"inputs/tess_flags.csv\", tess_cols)\n",
        "\n",
        "print(f\"✅ Loaded base ({len(base)} rows) + TESS flags ({len(tess)} rows)\")\n"
      ]
    },
    {
      "cell_type": "code",
      "source": [
        "# Cell 2: merge TESS into the base matrix & write final feature matrix\n",
        "# 1) Merge on tic_id\n",
        "fm = base.merge(\n",
        "    tess[[\"tic_id\", \"tess_flag\"]],\n",
        "    on=\"tic_id\",\n",
        "    how=\"left\"\n",
        ")\n",
        "\n",
        "# 2) Any planets without a TESS flag get False\n",
        "fm[\"tess_flag\"] = fm[\"tess_flag\"].fillna(False)\n",
        "\n",
        "# 3) Save the complete feature matrix\n",
        "fm.to_csv(\"outputs/feature_matrix.csv\", index=False)\n",
        "print(f\"✅ Final feature_matrix.csv ({len(fm)} rows)\")\n"
      ],
      "metadata": {
        "id": "UKWtxn7npSJA"
      },
      "execution_count": null,
      "outputs": []
    }
  ]
}