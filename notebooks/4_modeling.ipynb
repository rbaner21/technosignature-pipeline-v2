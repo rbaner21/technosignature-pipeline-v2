{
  "cells": [
    {
      "cell_type": "code",
      "source": [
        "# Cell 1: ensure working folders exist\n",
        "import os\n",
        "\n",
        "# raw & intermediate input folders\n",
        "os.makedirs(\"inputs\",        exist_ok=True)\n",
        "os.makedirs(\"inputs/tess\",   exist_ok=True)\n",
        "os.makedirs(\"inputs/harps\",  exist_ok=True)\n",
        "\n",
        "# final output folders\n",
        "os.makedirs(\"outputs\",        exist_ok=True)\n",
        "os.makedirs(\"outputs/reports\", exist_ok=True)\n"
      ],
      "metadata": {
        "id": "FMHdO8yP_9CU",
        "outputId": "29a67115-5d8a-4060-dd54-f3429ef551b8",
        "colab": {
          "base_uri": "https://localhost:8080/"
        }
      },
      "id": "FMHdO8yP_9CU",
      "execution_count": null,
      "outputs": [
        {
          "output_type": "stream",
          "name": "stdout",
          "text": [
            "Cloning into 'technosignature-pipeline-v2'...\n",
            "remote: Enumerating objects: 93, done.\u001b[K\n",
            "remote: Counting objects: 100% (93/93), done.\u001b[K\n",
            "remote: Compressing objects: 100% (88/88), done.\u001b[K\n",
            "remote: Total 93 (delta 33), reused 23 (delta 1), pack-reused 0 (from 0)\u001b[K\n",
            "Receiving objects: 100% (93/93), 34.10 KiB | 529.00 KiB/s, done.\n",
            "Resolving deltas: 100% (33/33), done.\n"
          ]
        }
      ]
    },
    {
      "cell_type": "code",
      "source": [
        "# Cell 2: compute techno_score & pick top 20\n",
        "import pandas as pd\n",
        "\n",
        "# 1) Load your merged feature matrix\n",
        "fm = pd.read_csv(\"outputs/feature_matrix.csv\")\n",
        "\n",
        "# 2) Define exactly which flags to sum\n",
        "flag_cols = [\n",
        "    \"ir_flag\",    # IR excess (WISE)\n",
        "    \"ps_flag\",    # Pan‑STARRS hit\n",
        "    \"sdss_flag\",  # SDSS hit\n",
        "    \"radio_flag\", # Radio (Breakthrough Listen)\n",
        "    \"gaia_flag\",  # Gaia RUWE\n",
        "    \"spec_flag\",  # Spectral spikes (HARPS)\n",
        "    \"tess_flag\"   # TESS transit\n",
        "]\n",
        "\n",
        "# 3) Sanity check: make sure all these columns exist\n",
        "missing = [f for f in flag_cols if f not in fm.columns]\n",
        "if missing:\n",
        "    raise RuntimeError(f\"Missing flags in feature_matrix.csv: {missing}\")\n",
        "\n",
        "# 4) Compute techno_score and select top 20\n",
        "fm[\"techno_score\"] = fm[flag_cols].astype(int).sum(axis=1)\n",
        "top20 = fm.nlargest(20, \"techno_score\")\n",
        "\n",
        "# 5) Save results\n",
        "top20.to_csv(\"outputs/top_candidates.csv\", index=False)\n",
        "\n",
        "print(\"✅ Top 20 technosignature candidates:\")\n",
        "print(top20[[\"pl_name\", \"techno_score\"]])\n"
      ],
      "metadata": {
        "id": "aHtngIi9Rc0a"
      },
      "id": "aHtngIi9Rc0a",
      "execution_count": null,
      "outputs": []
    }
  ],
  "metadata": {
    "colab": {
      "provenance": [],
      "gpuType": "T4"
    },
    "language_info": {
      "name": "python"
    },
    "accelerator": "GPU",
    "kernelspec": {
      "name": "python3",
      "display_name": "Python 3"
    }
  },
  "nbformat": 4,
  "nbformat_minor": 5
}