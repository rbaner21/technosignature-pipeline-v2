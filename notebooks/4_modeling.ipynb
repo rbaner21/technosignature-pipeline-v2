{
  "cells": [
    {
      "cell_type": "code",
      "source": [
        "# Cell 1: ensure working folders exist\n",
        "import os\n",
        "\n",
        "# inputs/ is where all raw and intermediate files go\n",
        "os.makedirs(\"inputs\", exist_ok=True)\n",
        "os.makedirs(\"inputs/tess\", exist_ok=True)\n",
        "os.makedirs(\"inputs/harps\", exist_ok=True)\n",
        "\n",
        "# outputs/ is where final CSVs and executed notebooks go\n",
        "os.makedirs(\"outputs\", exist_ok=True)\n",
        "os.makedirs(\"outputs/reports\", exist_ok=True)\n"
      ],
      "metadata": {
        "id": "FMHdO8yP_9CU",
        "outputId": "29a67115-5d8a-4060-dd54-f3429ef551b8",
        "colab": {
          "base_uri": "https://localhost:8080/"
        }
      },
      "id": "FMHdO8yP_9CU",
      "execution_count": null,
      "outputs": [
        {
          "output_type": "stream",
          "name": "stdout",
          "text": [
            "Cloning into 'technosignature-pipeline-v2'...\n",
            "remote: Enumerating objects: 93, done.\u001b[K\n",
            "remote: Counting objects: 100% (93/93), done.\u001b[K\n",
            "remote: Compressing objects: 100% (88/88), done.\u001b[K\n",
            "remote: Total 93 (delta 33), reused 23 (delta 1), pack-reused 0 (from 0)\u001b[K\n",
            "Receiving objects: 100% (93/93), 34.10 KiB | 529.00 KiB/s, done.\n",
            "Resolving deltas: 100% (33/33), done.\n"
          ]
        }
      ]
    },
    {
      "cell_type": "code",
      "source": [
        "import pandas as pd\n",
        "\n",
        "fm = pd.read_csv(\"outputs/feature_matrix.csv\")\n",
        "\n",
        "# Compute techno_score = sum of all flags\n",
        "flag_cols = [\"ir_flag\",\"radio_flag\",\"tess_flag\",\"gaia_flag\",\"spec_flag\"]\n",
        "fm[\"techno_score\"] = fm[flag_cols].astype(int).sum(axis=1)\n",
        "\n",
        "# Select top 20\n",
        "top20 = fm.nlargest(20, \"techno_score\")\n",
        "top20.to_csv(\"outputs/top_candidates.csv\", index=False)\n",
        "\n",
        "print(\"✅ Top candidates (20):\")\n",
        "print(top20[[\"pl_name\",\"techno_score\"]])\n"
      ],
      "metadata": {
        "id": "aHtngIi9Rc0a"
      },
      "id": "aHtngIi9Rc0a",
      "execution_count": null,
      "outputs": []
    }
  ],
  "metadata": {
    "colab": {
      "provenance": [],
      "gpuType": "T4"
    },
    "language_info": {
      "name": "python"
    },
    "accelerator": "GPU",
    "kernelspec": {
      "name": "python3",
      "display_name": "Python 3"
    }
  },
  "nbformat": 4,
  "nbformat_minor": 5
}